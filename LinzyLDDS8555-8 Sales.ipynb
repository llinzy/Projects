{
 "cells": [
  {
   "cell_type": "code",
   "execution_count": 1,
   "id": "8a9d7998-35d2-49ac-892f-9da36661162c",
   "metadata": {},
   "outputs": [],
   "source": [
    "import pandas as pd\n",
    "import numpy as np\n",
    "import matplotlib.pyplot as plt\n",
    "from datetime import datetime\n",
    "import seaborn as sns\n",
    "import statsmodels \n",
    "from statsmodels.tsa.exponential_smoothing.ets import ETSModel as ets\n",
    "from statsmodels.tsa.seasonal import seasonal_decompose\n",
    "from statsmodels.tsa.stattools import kpss\n",
    "from statsmodels.graphics.tsaplots import plot_acf, plot_pacf\n",
    "from statsmodels.tsa.statespace.sarimax import SARIMAX\n",
    "from sklearn.preprocessing import LabelEncoder, StandardScaler, MinMaxScaler\n",
    "import pymannkendall as mk\n",
    "import warnings\n",
    "warnings.filterwarnings(\"ignore\")"
   ]
  },
  {
   "cell_type": "code",
   "execution_count": 2,
   "id": "20393877-7427-41f3-8b2d-2a6bf3f70f67",
   "metadata": {},
   "outputs": [
    {
     "data": {
      "text/html": [
       "<div>\n",
       "<style scoped>\n",
       "    .dataframe tbody tr th:only-of-type {\n",
       "        vertical-align: middle;\n",
       "    }\n",
       "\n",
       "    .dataframe tbody tr th {\n",
       "        vertical-align: top;\n",
       "    }\n",
       "\n",
       "    .dataframe thead th {\n",
       "        text-align: right;\n",
       "    }\n",
       "</style>\n",
       "<table border=\"1\" class=\"dataframe\">\n",
       "  <thead>\n",
       "    <tr style=\"text-align: right;\">\n",
       "      <th></th>\n",
       "      <th>id</th>\n",
       "      <th>date</th>\n",
       "      <th>store_nbr</th>\n",
       "      <th>family</th>\n",
       "      <th>sales</th>\n",
       "      <th>onpromotion</th>\n",
       "    </tr>\n",
       "  </thead>\n",
       "  <tbody>\n",
       "    <tr>\n",
       "      <th>0</th>\n",
       "      <td>0</td>\n",
       "      <td>2013-01-01</td>\n",
       "      <td>1</td>\n",
       "      <td>AUTOMOTIVE</td>\n",
       "      <td>0.0</td>\n",
       "      <td>0</td>\n",
       "    </tr>\n",
       "    <tr>\n",
       "      <th>1</th>\n",
       "      <td>1</td>\n",
       "      <td>2013-01-01</td>\n",
       "      <td>1</td>\n",
       "      <td>BABY CARE</td>\n",
       "      <td>0.0</td>\n",
       "      <td>0</td>\n",
       "    </tr>\n",
       "    <tr>\n",
       "      <th>2</th>\n",
       "      <td>2</td>\n",
       "      <td>2013-01-01</td>\n",
       "      <td>1</td>\n",
       "      <td>BEAUTY</td>\n",
       "      <td>0.0</td>\n",
       "      <td>0</td>\n",
       "    </tr>\n",
       "    <tr>\n",
       "      <th>3</th>\n",
       "      <td>3</td>\n",
       "      <td>2013-01-01</td>\n",
       "      <td>1</td>\n",
       "      <td>BEVERAGES</td>\n",
       "      <td>0.0</td>\n",
       "      <td>0</td>\n",
       "    </tr>\n",
       "    <tr>\n",
       "      <th>4</th>\n",
       "      <td>4</td>\n",
       "      <td>2013-01-01</td>\n",
       "      <td>1</td>\n",
       "      <td>BOOKS</td>\n",
       "      <td>0.0</td>\n",
       "      <td>0</td>\n",
       "    </tr>\n",
       "  </tbody>\n",
       "</table>\n",
       "</div>"
      ],
      "text/plain": [
       "   id        date  store_nbr      family  sales  onpromotion\n",
       "0   0  2013-01-01          1  AUTOMOTIVE    0.0            0\n",
       "1   1  2013-01-01          1   BABY CARE    0.0            0\n",
       "2   2  2013-01-01          1      BEAUTY    0.0            0\n",
       "3   3  2013-01-01          1   BEVERAGES    0.0            0\n",
       "4   4  2013-01-01          1       BOOKS    0.0            0"
      ]
     },
     "execution_count": 2,
     "metadata": {},
     "output_type": "execute_result"
    }
   ],
   "source": [
    "train=pd.read_csv(\"train.csv\")\n",
    "test=pd.read_csv(\"test.csv\")\n",
    "train.head()"
   ]
  },
  {
   "cell_type": "code",
   "execution_count": 3,
   "id": "f21d4049-1f50-406e-8cc5-8bd4f140b3ad",
   "metadata": {},
   "outputs": [
    {
     "data": {
      "text/html": [
       "<div>\n",
       "<style scoped>\n",
       "    .dataframe tbody tr th:only-of-type {\n",
       "        vertical-align: middle;\n",
       "    }\n",
       "\n",
       "    .dataframe tbody tr th {\n",
       "        vertical-align: top;\n",
       "    }\n",
       "\n",
       "    .dataframe thead th {\n",
       "        text-align: right;\n",
       "    }\n",
       "</style>\n",
       "<table border=\"1\" class=\"dataframe\">\n",
       "  <thead>\n",
       "    <tr style=\"text-align: right;\">\n",
       "      <th></th>\n",
       "      <th>id</th>\n",
       "      <th>date</th>\n",
       "      <th>store_nbr</th>\n",
       "      <th>family</th>\n",
       "      <th>sales</th>\n",
       "      <th>onpromotion</th>\n",
       "    </tr>\n",
       "  </thead>\n",
       "  <tbody>\n",
       "    <tr>\n",
       "      <th>2163723</th>\n",
       "      <td>2163723</td>\n",
       "      <td>2016-05-02</td>\n",
       "      <td>2</td>\n",
       "      <td>GROCERY I</td>\n",
       "      <td>124717.000</td>\n",
       "      <td>59</td>\n",
       "    </tr>\n",
       "    <tr>\n",
       "      <th>2445984</th>\n",
       "      <td>2445984</td>\n",
       "      <td>2016-10-07</td>\n",
       "      <td>39</td>\n",
       "      <td>MEATS</td>\n",
       "      <td>89576.360</td>\n",
       "      <td>0</td>\n",
       "    </tr>\n",
       "    <tr>\n",
       "      <th>2144154</th>\n",
       "      <td>2144154</td>\n",
       "      <td>2016-04-21</td>\n",
       "      <td>20</td>\n",
       "      <td>GROCERY I</td>\n",
       "      <td>87438.516</td>\n",
       "      <td>53</td>\n",
       "    </tr>\n",
       "    <tr>\n",
       "      <th>2139699</th>\n",
       "      <td>2139699</td>\n",
       "      <td>2016-04-18</td>\n",
       "      <td>45</td>\n",
       "      <td>GROCERY I</td>\n",
       "      <td>76090.000</td>\n",
       "      <td>38</td>\n",
       "    </tr>\n",
       "    <tr>\n",
       "      <th>2153031</th>\n",
       "      <td>2153031</td>\n",
       "      <td>2016-04-26</td>\n",
       "      <td>2</td>\n",
       "      <td>GROCERY I</td>\n",
       "      <td>63434.000</td>\n",
       "      <td>30</td>\n",
       "    </tr>\n",
       "  </tbody>\n",
       "</table>\n",
       "</div>"
      ],
      "text/plain": [
       "              id        date  store_nbr     family       sales  onpromotion\n",
       "2163723  2163723  2016-05-02          2  GROCERY I  124717.000           59\n",
       "2445984  2445984  2016-10-07         39      MEATS   89576.360            0\n",
       "2144154  2144154  2016-04-21         20  GROCERY I   87438.516           53\n",
       "2139699  2139699  2016-04-18         45  GROCERY I   76090.000           38\n",
       "2153031  2153031  2016-04-26          2  GROCERY I   63434.000           30"
      ]
     },
     "execution_count": 3,
     "metadata": {},
     "output_type": "execute_result"
    }
   ],
   "source": [
    "train.sort_values(by=\"sales\", ascending=False).head()"
   ]
  },
  {
   "cell_type": "code",
   "execution_count": 4,
   "id": "745448f5-1a83-4f37-8c4a-433ea9fcab04",
   "metadata": {},
   "outputs": [],
   "source": [
    "train[\"date\"]=pd.to_datetime(train[\"date\"], format=\"%Y-%m-%d\")\n",
    "test[\"date\"]=pd.to_datetime(test[\"date\"], format=\"%Y-%m-%d\")"
   ]
  },
  {
   "cell_type": "code",
   "execution_count": 5,
   "id": "83e75a42-85cd-4ab0-a5c6-3388061fc545",
   "metadata": {},
   "outputs": [],
   "source": [
    "dataset=train[(train[\"sales\"]>0)].reset_index()"
   ]
  },
  {
   "cell_type": "code",
   "execution_count": 6,
   "id": "2725300e-57e0-4d59-8067-d1d0ce5d7b08",
   "metadata": {},
   "outputs": [
    {
     "data": {
      "text/plain": [
       "2061758"
      ]
     },
     "execution_count": 6,
     "metadata": {},
     "output_type": "execute_result"
    }
   ],
   "source": [
    "len(dataset)"
   ]
  },
  {
   "cell_type": "code",
   "execution_count": 7,
   "id": "c2799597-d0fe-4eb6-8f93-8ee67b510997",
   "metadata": {},
   "outputs": [
    {
     "data": {
      "text/plain": [
       "(array([2.059156e+06, 2.571000e+03, 2.000000e+01, 5.000000e+00,\n",
       "        1.000000e+00, 1.000000e+00, 1.000000e+00, 2.000000e+00,\n",
       "        0.000000e+00, 1.000000e+00]),\n",
       " array([1.22000000e-01, 1.24718098e+04, 2.49434976e+04, 3.74151854e+04,\n",
       "        4.98868732e+04, 6.23585610e+04, 7.48302488e+04, 8.73019366e+04,\n",
       "        9.97736244e+04, 1.12245312e+05, 1.24717000e+05]),\n",
       " <BarContainer object of 10 artists>)"
      ]
     },
     "execution_count": 7,
     "metadata": {},
     "output_type": "execute_result"
    },
    {
     "data": {
      "image/png": "[encoded data removed]",
      "text/plain": [
       "<Figure size 640x480 with 1 Axes>"
      ]
     },
     "metadata": {},
     "output_type": "display_data"
    }
   ],
   "source": [
    "plt.hist(dataset[\"sales\"])"
   ]
  },
  {
   "cell_type": "code",
   "execution_count": 8,
   "id": "7beb4c77-116b-4e03-b265-337adf4b3355",
   "metadata": {},
   "outputs": [
    {
     "data": {
      "text/plain": [
       "[<matplotlib.lines.Line2D at 0x231862c7890>]"
      ]
     },
     "execution_count": 8,
     "metadata": {},
     "output_type": "execute_result"
    },
    {
     "data": {
      "image/png": "[encoded data removed]",
      "text/plain": [
       "<Figure size 640x480 with 1 Axes>"
      ]
     },
     "metadata": {},
     "output_type": "display_data"
    }
   ],
   "source": [
    "plt.plot(dataset[\"date\"], dataset[\"sales\"])"
   ]
  },
  {
   "cell_type": "markdown",
   "id": "ef6f896a-cbf6-4589-bf50-378ea9712bf7",
   "metadata": {},
   "source": [
    "## Identify Trend"
   ]
  },
  {
   "cell_type": "code",
   "execution_count": 9,
   "id": "f8ca29fa-dab2-40de-9355-56f4922971f2",
   "metadata": {},
   "outputs": [],
   "source": [
    "df=dataset[[\"date\", \"sales\"]].set_index(\"date\")"
   ]
  },
  {
   "cell_type": "code",
   "execution_count": 10,
   "id": "77cb105d-9789-41d8-b863-6d6f11460c9b",
   "metadata": {},
   "outputs": [
    {
     "data": {
      "text/html": [
       "<div>\n",
       "<style scoped>\n",
       "    .dataframe tbody tr th:only-of-type {\n",
       "        vertical-align: middle;\n",
       "    }\n",
       "\n",
       "    .dataframe tbody tr th {\n",
       "        vertical-align: top;\n",
       "    }\n",
       "\n",
       "    .dataframe thead th {\n",
       "        text-align: right;\n",
       "    }\n",
       "</style>\n",
       "<table border=\"1\" class=\"dataframe\">\n",
       "  <thead>\n",
       "    <tr style=\"text-align: right;\">\n",
       "      <th></th>\n",
       "      <th>sales</th>\n",
       "    </tr>\n",
       "    <tr>\n",
       "      <th>date</th>\n",
       "      <th></th>\n",
       "    </tr>\n",
       "  </thead>\n",
       "  <tbody>\n",
       "    <tr>\n",
       "      <th>2013-01-01</th>\n",
       "      <td>2.000</td>\n",
       "    </tr>\n",
       "    <tr>\n",
       "      <th>2013-01-01</th>\n",
       "      <td>810.000</td>\n",
       "    </tr>\n",
       "    <tr>\n",
       "      <th>2013-01-01</th>\n",
       "      <td>180.589</td>\n",
       "    </tr>\n",
       "    <tr>\n",
       "      <th>2013-01-01</th>\n",
       "      <td>186.000</td>\n",
       "    </tr>\n",
       "    <tr>\n",
       "      <th>2013-01-01</th>\n",
       "      <td>143.000</td>\n",
       "    </tr>\n",
       "  </tbody>\n",
       "</table>\n",
       "</div>"
      ],
      "text/plain": [
       "              sales\n",
       "date               \n",
       "2013-01-01    2.000\n",
       "2013-01-01  810.000\n",
       "2013-01-01  180.589\n",
       "2013-01-01  186.000\n",
       "2013-01-01  143.000"
      ]
     },
     "execution_count": 10,
     "metadata": {},
     "output_type": "execute_result"
    }
   ],
   "source": [
    "df.head()"
   ]
  },
  {
   "cell_type": "code",
   "execution_count": 11,
   "id": "905826a1-25b9-477b-9139-83ba17846827",
   "metadata": {},
   "outputs": [],
   "source": [
    "df['RollingMean'] = df['sales'].rolling(window=3).mean()"
   ]
  },
  {
   "cell_type": "code",
   "execution_count": 12,
   "id": "56867557-072e-4ce8-9e94-73c02a60c1a1",
   "metadata": {},
   "outputs": [
    {
     "data": {
      "text/plain": [
       "Text(0.5, 1.0, 'Trend Detection with Smoothing')"
      ]
     },
     "execution_count": 12,
     "metadata": {},
     "output_type": "execute_result"
    },
    {
     "data": {
      "image/png": "[encoded data removed]",
      "text/plain": [
       "<Figure size 640x480 with 1 Axes>"
      ]
     },
     "metadata": {},
     "output_type": "display_data"
    }
   ],
   "source": [
    "plt.plot(df.index, df['sales'], label='Original', marker='o')\n",
    "plt.plot(df.index, df['RollingMean'], label='Rolling Mean (window=3)', color='orange')\n",
    "plt.title('Trend Detection with Smoothing')"
   ]
  },
  {
   "cell_type": "markdown",
   "id": "e5994ae8-2ce6-412d-8b26-4e46ecb91c67",
   "metadata": {},
   "source": [
    "## Determine Seasonality"
   ]
  },
  {
   "cell_type": "code",
   "execution_count": 13,
   "id": "cdfe7f41-2307-4881-8337-d71944c08b83",
   "metadata": {},
   "outputs": [
    {
     "data": {
      "image/png": "[encoded data removed]",
      "text/plain": [
       "<Figure size 640x480 with 4 Axes>"
      ]
     },
     "metadata": {},
     "output_type": "display_data"
    }
   ],
   "source": [
    "result = seasonal_decompose(df['sales'], model='add', period=12)\n",
    "\n",
    "# Plot the components\n",
    "result.plot()\n",
    "plt.tight_layout()\n",
    "plt.show()"
   ]
  },
  {
   "cell_type": "markdown",
   "id": "eadc1b03-d0a6-4db8-895a-a5595611b63b",
   "metadata": {},
   "source": [
    "## ETS Model"
   ]
  },
  {
   "cell_type": "code",
   "execution_count": 14,
   "id": "1011a90b-f11d-48e3-85f7-2920ee1f22e7",
   "metadata": {},
   "outputs": [],
   "source": [
    "model = ets(df['sales'], error='add', trend='add', seasonal=None)\n",
    "fit = model.fit()"
   ]
  },
  {
   "cell_type": "code",
   "execution_count": 15,
   "id": "304c43d9-1a43-4f4e-9b2d-613d5d4a7ddd",
   "metadata": {},
   "outputs": [],
   "source": [
    "forecast = [int(round(i,0)) for i in np.maximum(fit.predict(start=len(df), end=len(df)+len(test)),0)]"
   ]
  },
  {
   "cell_type": "code",
   "execution_count": 16,
   "id": "e356393b-8f32-4831-9847-68377017bae9",
   "metadata": {},
   "outputs": [],
   "source": [
    "test=test.reset_index()"
   ]
  },
  {
   "cell_type": "code",
   "execution_count": 17,
   "id": "015e60a6-e6e4-49ba-8a69-9ca662b91e03",
   "metadata": {},
   "outputs": [],
   "source": [
    "test[\"sales\"]=pd.DataFrame(forecast[1:]).reset_index().iloc[:,1]"
   ]
  },
  {
   "cell_type": "code",
   "execution_count": 18,
   "id": "b6a8c931-9e65-480c-8830-23f60cc28894",
   "metadata": {},
   "outputs": [],
   "source": [
    "test[[\"id\", \"sales\"]].to_csv(\"store_sales_submission.csv\", index=False)"
   ]
  },
  {
   "cell_type": "markdown",
   "id": "87c5871f-eb3b-48e3-add6-42129ae00814",
   "metadata": {},
   "source": [
    "## ARIMA Model"
   ]
  },
  {
   "cell_type": "code",
   "execution_count": 19,
   "id": "35937c96-0ac0-47e3-b26a-0c41545ff961",
   "metadata": {},
   "outputs": [],
   "source": [
    "labeler=LabelEncoder()\n",
    "labels=labeler.fit_transform(dataset[\"family\"])\n",
    "dataset[\"family\"]=labels"
   ]
  },
  {
   "cell_type": "code",
   "execution_count": 20,
   "id": "879a746d-cf81-4d33-afcc-3e36cc21b12a",
   "metadata": {},
   "outputs": [],
   "source": [
    "train_dataset=dataset.drop(\"id\", axis=1)"
   ]
  },
  {
   "cell_type": "code",
   "execution_count": 21,
   "id": "3b452eaf-d908-4574-a01b-3e071f28a5ba",
   "metadata": {},
   "outputs": [],
   "source": [
    "train_dataset.set_index(\"date\", inplace=True)"
   ]
  },
  {
   "cell_type": "code",
   "execution_count": 22,
   "id": "d1407520-f56d-4078-a46d-d882922d05fc",
   "metadata": {},
   "outputs": [],
   "source": [
    "train_dataset=train_dataset.drop(\"index\", axis=1)"
   ]
  },
  {
   "cell_type": "code",
   "execution_count": 23,
   "id": "57f035ea-4b5e-4d40-9922-1648ad338535",
   "metadata": {},
   "outputs": [],
   "source": [
    "scaler=StandardScaler()"
   ]
  },
  {
   "cell_type": "code",
   "execution_count": 24,
   "id": "8ec8ac20-4626-4a4f-b45a-bd5f82759348",
   "metadata": {},
   "outputs": [],
   "source": [
    "#train_dataset['store_nbr'] = scaler.fit_transform(train_dataset[['store_nbr']])\n",
    "#train_dataset['family'] = scaler.fit_transform(train_dataset[['family']])\n",
    "#train_dataset['onpromotion'] = scaler.fit_transform(train_dataset[['onpromotion']])"
   ]
  },
  {
   "cell_type": "code",
   "execution_count": 25,
   "id": "532f28f4-610b-486f-ad21-7fc8c9495f48",
   "metadata": {},
   "outputs": [
    {
     "data": {
      "text/html": [
       "<div>\n",
       "<style scoped>\n",
       "    .dataframe tbody tr th:only-of-type {\n",
       "        vertical-align: middle;\n",
       "    }\n",
       "\n",
       "    .dataframe tbody tr th {\n",
       "        vertical-align: top;\n",
       "    }\n",
       "\n",
       "    .dataframe thead th {\n",
       "        text-align: right;\n",
       "    }\n",
       "</style>\n",
       "<table border=\"1\" class=\"dataframe\">\n",
       "  <thead>\n",
       "    <tr style=\"text-align: right;\">\n",
       "      <th></th>\n",
       "      <th>store_nbr</th>\n",
       "      <th>family</th>\n",
       "      <th>sales</th>\n",
       "      <th>onpromotion</th>\n",
       "    </tr>\n",
       "    <tr>\n",
       "      <th>date</th>\n",
       "      <th></th>\n",
       "      <th></th>\n",
       "      <th></th>\n",
       "      <th></th>\n",
       "    </tr>\n",
       "  </thead>\n",
       "  <tbody>\n",
       "    <tr>\n",
       "      <th>2013-01-01</th>\n",
       "      <td>25</td>\n",
       "      <td>2</td>\n",
       "      <td>2.000</td>\n",
       "      <td>0</td>\n",
       "    </tr>\n",
       "    <tr>\n",
       "      <th>2013-01-01</th>\n",
       "      <td>25</td>\n",
       "      <td>3</td>\n",
       "      <td>810.000</td>\n",
       "      <td>0</td>\n",
       "    </tr>\n",
       "    <tr>\n",
       "      <th>2013-01-01</th>\n",
       "      <td>25</td>\n",
       "      <td>5</td>\n",
       "      <td>180.589</td>\n",
       "      <td>0</td>\n",
       "    </tr>\n",
       "    <tr>\n",
       "      <th>2013-01-01</th>\n",
       "      <td>25</td>\n",
       "      <td>7</td>\n",
       "      <td>186.000</td>\n",
       "      <td>0</td>\n",
       "    </tr>\n",
       "    <tr>\n",
       "      <th>2013-01-01</th>\n",
       "      <td>25</td>\n",
       "      <td>8</td>\n",
       "      <td>143.000</td>\n",
       "      <td>0</td>\n",
       "    </tr>\n",
       "  </tbody>\n",
       "</table>\n",
       "</div>"
      ],
      "text/plain": [
       "            store_nbr  family    sales  onpromotion\n",
       "date                                               \n",
       "2013-01-01         25       2    2.000            0\n",
       "2013-01-01         25       3  810.000            0\n",
       "2013-01-01         25       5  180.589            0\n",
       "2013-01-01         25       7  186.000            0\n",
       "2013-01-01         25       8  143.000            0"
      ]
     },
     "execution_count": 25,
     "metadata": {},
     "output_type": "execute_result"
    }
   ],
   "source": [
    "train_dataset.head()"
   ]
  },
  {
   "cell_type": "code",
   "execution_count": 26,
   "id": "24efd031-177f-4ce5-a22a-1364d8511f1c",
   "metadata": {},
   "outputs": [
    {
     "name": "stdout",
     "output_type": "stream",
     "text": [
      "KPSS p-value: 0.01\n"
     ]
    }
   ],
   "source": [
    "#KPSS assumes data is stationary, if p-value is less than .05 then non-stationary\n",
    "stat, p_value, _, _ = kpss(train_dataset['sales'], regression='c')\n",
    "print(f'KPSS p-value: {p_value}')"
   ]
  },
  {
   "cell_type": "code",
   "execution_count": 27,
   "id": "5f99f9d3-b10f-4776-8661-8cde867a2991",
   "metadata": {},
   "outputs": [],
   "source": [
    "X=train_dataset[['store_nbr', 'family', 'onpromotion']]\n",
    "y=train_dataset['sales']"
   ]
  },
  {
   "cell_type": "code",
   "execution_count": 28,
   "id": "905c9720-99f4-4cae-9b23-83880af66ffb",
   "metadata": {},
   "outputs": [
    {
     "name": "stdout",
     "output_type": "stream",
     "text": [
      "                               SARIMAX Results                                \n",
      "==============================================================================\n",
      "Dep. Variable:                  sales   No. Observations:              2061758\n",
      "Model:               SARIMAX(1, 1, 1)   Log Likelihood           -17457659.300\n",
      "Date:                Sun, 07 Sep 2025   AIC                       34915330.599\n",
      "Time:                        19:38:03   BIC                       34915405.834\n",
      "Sample:                             0   HQIC                      34915350.722\n",
      "                            - 2061758                                         \n",
      "Covariance Type:                  opg                                         \n",
      "===============================================================================\n",
      "                  coef    std err          z      P>|z|      [0.025      0.975]\n",
      "-------------------------------------------------------------------------------\n",
      "store_nbr      -1.1445      0.073    -15.749      0.000      -1.287      -1.002\n",
      "family        -16.8997      0.083   -203.281      0.000     -17.063     -16.737\n",
      "onpromotion    37.4005      0.012   2998.397      0.000      37.376      37.425\n",
      "ar.L1          -0.0683      0.001    -92.887      0.000      -0.070      -0.067\n",
      "ma.L1          -0.9794    8.7e-05  -1.13e+04      0.000      -0.980      -0.979\n",
      "sigma2       1.325e+06    162.871   8135.706      0.000    1.32e+06    1.33e+06\n",
      "===================================================================================\n",
      "Ljung-Box (L1) (Q):                  91.73   Jarque-Bera (JB):        1967227947.58\n",
      "Prob(Q):                              0.00   Prob(JB):                         0.00\n",
      "Heteroskedasticity (H):               1.15   Skew:                             5.77\n",
      "Prob(H) (two-sided):                  0.00   Kurtosis:                       153.89\n",
      "===================================================================================\n",
      "\n",
      "Warnings:\n",
      "[1] Covariance matrix calculated using the outer product of gradients (complex-step).\n",
      "CPU times: total: 1h 43min 11s\n",
      "Wall time: 31min 27s\n"
     ]
    }
   ],
   "source": [
    "%%time\n",
    "model = SARIMAX(y, exog=X, order=(1, 1, 1))\n",
    "fit = model.fit()\n",
    "print(fit.summary())"
   ]
  },
  {
   "cell_type": "code",
   "execution_count": 29,
   "id": "84305c8d-5b35-493f-a9ac-7098a7823e92",
   "metadata": {},
   "outputs": [
    {
     "data": {
      "text/html": [
       "<div>\n",
       "<style scoped>\n",
       "    .dataframe tbody tr th:only-of-type {\n",
       "        vertical-align: middle;\n",
       "    }\n",
       "\n",
       "    .dataframe tbody tr th {\n",
       "        vertical-align: top;\n",
       "    }\n",
       "\n",
       "    .dataframe thead th {\n",
       "        text-align: right;\n",
       "    }\n",
       "</style>\n",
       "<table border=\"1\" class=\"dataframe\">\n",
       "  <thead>\n",
       "    <tr style=\"text-align: right;\">\n",
       "      <th></th>\n",
       "      <th>index</th>\n",
       "      <th>id</th>\n",
       "      <th>date</th>\n",
       "      <th>store_nbr</th>\n",
       "      <th>family</th>\n",
       "      <th>onpromotion</th>\n",
       "      <th>sales</th>\n",
       "    </tr>\n",
       "  </thead>\n",
       "  <tbody>\n",
       "    <tr>\n",
       "      <th>0</th>\n",
       "      <td>0</td>\n",
       "      <td>3000888</td>\n",
       "      <td>2017-08-16</td>\n",
       "      <td>1</td>\n",
       "      <td>AUTOMOTIVE</td>\n",
       "      <td>0</td>\n",
       "      <td>567</td>\n",
       "    </tr>\n",
       "    <tr>\n",
       "      <th>1</th>\n",
       "      <td>1</td>\n",
       "      <td>3000889</td>\n",
       "      <td>2017-08-16</td>\n",
       "      <td>1</td>\n",
       "      <td>BABY CARE</td>\n",
       "      <td>0</td>\n",
       "      <td>567</td>\n",
       "    </tr>\n",
       "    <tr>\n",
       "      <th>2</th>\n",
       "      <td>2</td>\n",
       "      <td>3000890</td>\n",
       "      <td>2017-08-16</td>\n",
       "      <td>1</td>\n",
       "      <td>BEAUTY</td>\n",
       "      <td>2</td>\n",
       "      <td>567</td>\n",
       "    </tr>\n",
       "    <tr>\n",
       "      <th>3</th>\n",
       "      <td>3</td>\n",
       "      <td>3000891</td>\n",
       "      <td>2017-08-16</td>\n",
       "      <td>1</td>\n",
       "      <td>BEVERAGES</td>\n",
       "      <td>20</td>\n",
       "      <td>567</td>\n",
       "    </tr>\n",
       "    <tr>\n",
       "      <th>4</th>\n",
       "      <td>4</td>\n",
       "      <td>3000892</td>\n",
       "      <td>2017-08-16</td>\n",
       "      <td>1</td>\n",
       "      <td>BOOKS</td>\n",
       "      <td>0</td>\n",
       "      <td>567</td>\n",
       "    </tr>\n",
       "  </tbody>\n",
       "</table>\n",
       "</div>"
      ],
      "text/plain": [
       "   index       id       date  store_nbr      family  onpromotion  sales\n",
       "0      0  3000888 2017-08-16          1  AUTOMOTIVE            0    567\n",
       "1      1  3000889 2017-08-16          1   BABY CARE            0    567\n",
       "2      2  3000890 2017-08-16          1      BEAUTY            2    567\n",
       "3      3  3000891 2017-08-16          1   BEVERAGES           20    567\n",
       "4      4  3000892 2017-08-16          1       BOOKS            0    567"
      ]
     },
     "execution_count": 29,
     "metadata": {},
     "output_type": "execute_result"
    }
   ],
   "source": [
    "test.head()"
   ]
  },
  {
   "cell_type": "code",
   "execution_count": 30,
   "id": "89f4218a-a24d-4773-b09c-0172925d5049",
   "metadata": {},
   "outputs": [],
   "source": [
    "test_data=test[['store_nbr', 'family', 'onpromotion', 'date']]\n",
    "test_data.set_index(\"date\", inplace=True)    "
   ]
  },
  {
   "cell_type": "code",
   "execution_count": 31,
   "id": "3c42e53a-11cc-4c27-8805-10d6997299b0",
   "metadata": {},
   "outputs": [],
   "source": [
    "test_data[\"family\"]=labeler.fit_transform(test_data[\"family\"])"
   ]
  },
  {
   "cell_type": "code",
   "execution_count": 32,
   "id": "a8333c9b-f028-48ef-8619-58678c8ff777",
   "metadata": {},
   "outputs": [
    {
     "data": {
      "text/html": [
       "<div>\n",
       "<style scoped>\n",
       "    .dataframe tbody tr th:only-of-type {\n",
       "        vertical-align: middle;\n",
       "    }\n",
       "\n",
       "    .dataframe tbody tr th {\n",
       "        vertical-align: top;\n",
       "    }\n",
       "\n",
       "    .dataframe thead th {\n",
       "        text-align: right;\n",
       "    }\n",
       "</style>\n",
       "<table border=\"1\" class=\"dataframe\">\n",
       "  <thead>\n",
       "    <tr style=\"text-align: right;\">\n",
       "      <th></th>\n",
       "      <th>store_nbr</th>\n",
       "      <th>family</th>\n",
       "      <th>onpromotion</th>\n",
       "    </tr>\n",
       "    <tr>\n",
       "      <th>date</th>\n",
       "      <th></th>\n",
       "      <th></th>\n",
       "      <th></th>\n",
       "    </tr>\n",
       "  </thead>\n",
       "  <tbody>\n",
       "    <tr>\n",
       "      <th>2017-08-16</th>\n",
       "      <td>1</td>\n",
       "      <td>0</td>\n",
       "      <td>0</td>\n",
       "    </tr>\n",
       "    <tr>\n",
       "      <th>2017-08-16</th>\n",
       "      <td>1</td>\n",
       "      <td>1</td>\n",
       "      <td>0</td>\n",
       "    </tr>\n",
       "    <tr>\n",
       "      <th>2017-08-16</th>\n",
       "      <td>1</td>\n",
       "      <td>2</td>\n",
       "      <td>2</td>\n",
       "    </tr>\n",
       "    <tr>\n",
       "      <th>2017-08-16</th>\n",
       "      <td>1</td>\n",
       "      <td>3</td>\n",
       "      <td>20</td>\n",
       "    </tr>\n",
       "    <tr>\n",
       "      <th>2017-08-16</th>\n",
       "      <td>1</td>\n",
       "      <td>4</td>\n",
       "      <td>0</td>\n",
       "    </tr>\n",
       "  </tbody>\n",
       "</table>\n",
       "</div>"
      ],
      "text/plain": [
       "            store_nbr  family  onpromotion\n",
       "date                                      \n",
       "2017-08-16          1       0            0\n",
       "2017-08-16          1       1            0\n",
       "2017-08-16          1       2            2\n",
       "2017-08-16          1       3           20\n",
       "2017-08-16          1       4            0"
      ]
     },
     "execution_count": 32,
     "metadata": {},
     "output_type": "execute_result"
    }
   ],
   "source": [
    "test_data.head()"
   ]
  },
  {
   "cell_type": "code",
   "execution_count": 33,
   "id": "2c1a123a-283b-4d1f-b26d-a9f9fd7759c7",
   "metadata": {},
   "outputs": [],
   "source": [
    "forecast = np.maximum(fit.forecast(steps=len(test_data), exog=test_data),0)"
   ]
  },
  {
   "cell_type": "code",
   "execution_count": 34,
   "id": "42040ecc-6b5a-4407-844a-2baec5439679",
   "metadata": {},
   "outputs": [],
   "source": [
    "forcast2=pd.DataFrame(fit.forecast(steps=1, exog=test_data.iloc[-1, :])).reset_index().iloc[:,1]"
   ]
  },
  {
   "cell_type": "code",
   "execution_count": 35,
   "id": "02bb09b2-8f6a-4775-9239-feccc2c056be",
   "metadata": {},
   "outputs": [],
   "source": [
    "forcast2=np.maximum(forcast2,0)"
   ]
  },
  {
   "cell_type": "code",
   "execution_count": 36,
   "id": "41788b36-494c-4458-b5a5-665752668185",
   "metadata": {},
   "outputs": [],
   "source": [
    "test[\"sales\"]=list(pd.concat([pd.Series(pd.DataFrame(forecast[1:]).reset_index().iloc[:,1]), pd.Series(forcast2)], axis=0))"
   ]
  },
  {
   "cell_type": "code",
   "execution_count": 37,
   "id": "0104bc45-25b5-4cb7-bc53-5121fa4d8757",
   "metadata": {},
   "outputs": [],
   "source": [
    "test[[\"id\", \"sales\"]].to_csv(\"store_sales_submission2.csv\", index=False)"
   ]
  },
  {
   "cell_type": "code",
   "execution_count": null,
   "id": "152e75d9-4bf0-4ff6-bac6-87d4b8ff1a92",
   "metadata": {},
   "outputs": [],
   "source": []
  }
 ],
 "metadata": {
  "kernelspec": {
   "display_name": "Python 3 (ipykernel)",
   "language": "python",
   "name": "python3"
  },
  "language_info": {
   "codemirror_mode": {
    "name": "ipython",
    "version": 3
   },
   "file_extension": ".py",
   "mimetype": "text/x-python",
   "name": "python",
   "nbconvert_exporter": "python",
   "pygments_lexer": "ipython3",
   "version": "3.13.5"
  }
 },
 "nbformat": 4,
 "nbformat_minor": 5
}
