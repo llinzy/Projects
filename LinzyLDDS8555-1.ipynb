{
 "cells": [
  {
   "cell_type": "code",
   "execution_count": 71,
   "id": "2d880fac-bae0-41ef-8891-e3fe3d3974c0",
   "metadata": {},
   "outputs": [],
   "source": [
    "import pandas as pd\n",
    "import numpy as np\n",
    "from sklearn import datasets\n",
    "from sklearn.model_selection import train_test_split\n",
    "from sklearn.metrics import mean_absolute_error as MAE\n",
    "from sklearn.metrics import mean_squared_error as MSE\n",
    "from sklearn.metrics import mean_absolute_percentage_error as MAPE\n",
    "from numpy import percentile\n",
    "from sklearn.metrics import confusion_matrix as cm, ConfusionMatrixDisplay as cmd\n",
    "from sklearn.metrics import classification_report as cr\n",
    "import matplotlib.pyplot as plt"
   ]
  },
  {
   "cell_type": "code",
   "execution_count": 72,
   "id": "7feb2719-b910-4841-867d-a645dae644c0",
   "metadata": {},
   "outputs": [],
   "source": [
    "data=pd.DataFrame(datasets.load_iris().data)"
   ]
  },
  {
   "cell_type": "code",
   "execution_count": 73,
   "id": "ef2a97be-c094-4bd7-9fc1-2738d2e6629e",
   "metadata": {},
   "outputs": [],
   "source": [
    "data.columns=datasets.load_iris().feature_names"
   ]
  },
  {
   "cell_type": "code",
   "execution_count": 74,
   "id": "5e802dbe-8657-41cd-8123-580ffad2bde7",
   "metadata": {},
   "outputs": [],
   "source": [
    "data[\"target\"]=datasets.load_iris().target"
   ]
  },
  {
   "cell_type": "code",
   "execution_count": 75,
   "id": "7070ff76-d321-48d0-9153-b9da46e74fe7",
   "metadata": {},
   "outputs": [],
   "source": [
    "data[\"target\"]=data[\"target\"].astype(\"object\")"
   ]
  },
  {
   "cell_type": "code",
   "execution_count": 76,
   "id": "ffe91b57-8bfd-451d-b1ff-63f8e650c68c",
   "metadata": {},
   "outputs": [],
   "source": [
    "data[\"new feature\"]=(data[\"sepal length (cm)\"]*data[\"sepal width (cm)\"])/(data[\"petal length (cm)\"]*data[\"petal width (cm)\"])"
   ]
  },
  {
   "cell_type": "code",
   "execution_count": 77,
   "id": "e1443785-cde6-450e-bacb-19d292032ba1",
   "metadata": {},
   "outputs": [
    {
     "data": {
      "text/html": [
       "<div>\n",
       "<style scoped>\n",
       "    .dataframe tbody tr th:only-of-type {\n",
       "        vertical-align: middle;\n",
       "    }\n",
       "\n",
       "    .dataframe tbody tr th {\n",
       "        vertical-align: top;\n",
       "    }\n",
       "\n",
       "    .dataframe thead th {\n",
       "        text-align: right;\n",
       "    }\n",
       "</style>\n",
       "<table border=\"1\" class=\"dataframe\">\n",
       "  <thead>\n",
       "    <tr style=\"text-align: right;\">\n",
       "      <th></th>\n",
       "      <th>sepal length (cm)</th>\n",
       "      <th>sepal width (cm)</th>\n",
       "      <th>petal length (cm)</th>\n",
       "      <th>petal width (cm)</th>\n",
       "      <th>target</th>\n",
       "      <th>new feature</th>\n",
       "    </tr>\n",
       "  </thead>\n",
       "  <tbody>\n",
       "    <tr>\n",
       "      <th>0</th>\n",
       "      <td>5.1</td>\n",
       "      <td>3.5</td>\n",
       "      <td>1.4</td>\n",
       "      <td>0.2</td>\n",
       "      <td>0</td>\n",
       "      <td>63.750000</td>\n",
       "    </tr>\n",
       "    <tr>\n",
       "      <th>1</th>\n",
       "      <td>4.9</td>\n",
       "      <td>3.0</td>\n",
       "      <td>1.4</td>\n",
       "      <td>0.2</td>\n",
       "      <td>0</td>\n",
       "      <td>52.500000</td>\n",
       "    </tr>\n",
       "    <tr>\n",
       "      <th>2</th>\n",
       "      <td>4.7</td>\n",
       "      <td>3.2</td>\n",
       "      <td>1.3</td>\n",
       "      <td>0.2</td>\n",
       "      <td>0</td>\n",
       "      <td>57.846154</td>\n",
       "    </tr>\n",
       "    <tr>\n",
       "      <th>3</th>\n",
       "      <td>4.6</td>\n",
       "      <td>3.1</td>\n",
       "      <td>1.5</td>\n",
       "      <td>0.2</td>\n",
       "      <td>0</td>\n",
       "      <td>47.533333</td>\n",
       "    </tr>\n",
       "    <tr>\n",
       "      <th>4</th>\n",
       "      <td>5.0</td>\n",
       "      <td>3.6</td>\n",
       "      <td>1.4</td>\n",
       "      <td>0.2</td>\n",
       "      <td>0</td>\n",
       "      <td>64.285714</td>\n",
       "    </tr>\n",
       "  </tbody>\n",
       "</table>\n",
       "</div>"
      ],
      "text/plain": [
       "   sepal length (cm)  sepal width (cm)  petal length (cm)  petal width (cm)  \\\n",
       "0                5.1               3.5                1.4               0.2   \n",
       "1                4.9               3.0                1.4               0.2   \n",
       "2                4.7               3.2                1.3               0.2   \n",
       "3                4.6               3.1                1.5               0.2   \n",
       "4                5.0               3.6                1.4               0.2   \n",
       "\n",
       "  target  new feature  \n",
       "0      0    63.750000  \n",
       "1      0    52.500000  \n",
       "2      0    57.846154  \n",
       "3      0    47.533333  \n",
       "4      0    64.285714  "
      ]
     },
     "execution_count": 77,
     "metadata": {},
     "output_type": "execute_result"
    }
   ],
   "source": [
    "data.head()"
   ]
  },
  {
   "cell_type": "code",
   "execution_count": 83,
   "id": "5134926a-a866-4ce5-825f-70f1068a920c",
   "metadata": {},
   "outputs": [
    {
     "data": {
      "text/plain": [
       "target\n",
       "0    50\n",
       "1    50\n",
       "2    50\n",
       "Name: count, dtype: int64"
      ]
     },
     "execution_count": 83,
     "metadata": {},
     "output_type": "execute_result"
    }
   ],
   "source": [
    "data[\"target\"].value_counts()"
   ]
  },
  {
   "cell_type": "code",
   "execution_count": 78,
   "id": "48b5f379-9bba-4843-a489-e6b43fad7394",
   "metadata": {},
   "outputs": [
    {
     "data": {
      "text/plain": [
       "Index(['sepal length (cm)', 'sepal width (cm)', 'petal length (cm)',\n",
       "       'petal width (cm)', 'target', 'new feature'],\n",
       "      dtype='object')"
      ]
     },
     "execution_count": 78,
     "metadata": {},
     "output_type": "execute_result"
    }
   ],
   "source": [
    "data.columns"
   ]
  },
  {
   "cell_type": "code",
   "execution_count": 79,
   "id": "58690d7e-c918-4476-b464-4a2c8d50c189",
   "metadata": {},
   "outputs": [
    {
     "data": {
      "text/plain": [
       "count    150.000000\n",
       "mean       1.199333\n",
       "std        0.762238\n",
       "min        0.100000\n",
       "25%        0.300000\n",
       "50%        1.300000\n",
       "75%        1.800000\n",
       "max        2.500000\n",
       "Name: petal width (cm), dtype: float64"
      ]
     },
     "execution_count": 79,
     "metadata": {},
     "output_type": "execute_result"
    }
   ],
   "source": [
    "pd.Series(data[\"petal width (cm)\"]).describe()"
   ]
  },
  {
   "cell_type": "code",
   "execution_count": 80,
   "id": "e098e01b-e6c9-49be-a1d4-2632dc673996",
   "metadata": {},
   "outputs": [],
   "source": [
    "X_train, X_test, y_train, y_test = train_test_split(data.iloc[:,0:4], data.iloc[:,4], test_size=0.2, random_state=42,\n",
    "stratify=data.iloc[:,4])"
   ]
  },
  {
   "cell_type": "code",
   "execution_count": 43,
   "id": "2f1b4ae0-069e-47e8-97d6-d5247dd82d01",
   "metadata": {},
   "outputs": [],
   "source": [
    "def myf(y,yhat):\n",
    "    ME=np.round(np.mean(y-yhat),3)\n",
    "    MPE=np.round(np.mean((y-yhat)/y),3)\n",
    "    myMAE=np.round(MAE(y,yhat),3)\n",
    "    myMSE=np.round(MSE(y,yhat),3)\n",
    "    myMAPE=np.round(MAPE(y,yhat),3)\n",
    "    print(\"\\n\",\"ME:\", np.round(ME,3),\"\\n\",\"MPE:\",MPE,\"\\n\", \"MAE:\", myMAE,\"\\n\", \"MSE:\", myMSE,\"\\n\",\"MAPE:\",myMAPE)"
   ]
  },
  {
   "cell_type": "code",
   "execution_count": 44,
   "id": "f9c7accb-2e65-441f-b726-b156676a7af6",
   "metadata": {},
   "outputs": [],
   "source": [
    "est1=np.mean(X_train['petal length (cm)'])\n",
    "est2=np.mean(X_train['sepal length (cm)']-X_train['petal width (cm)'])"
   ]
  },
  {
   "cell_type": "code",
   "execution_count": 45,
   "id": "cc7322a7-3211-4c7d-a59d-04746b7d87b7",
   "metadata": {},
   "outputs": [],
   "source": [
    "est1=[est1]*len(y_test)\n",
    "est2=[est2]*len(y_test)"
   ]
  },
  {
   "cell_type": "code",
   "execution_count": 48,
   "id": "1687673f-1933-461d-9006-d33da4135e4d",
   "metadata": {},
   "outputs": [
    {
     "name": "stdout",
     "output_type": "stream",
     "text": [
      "\n",
      " ME: -0.677 \n",
      " MPE: -0.237 \n",
      " MAE: 0.694 \n",
      " MSE: 0.602 \n",
      " MAPE: 0.242\n",
      "\n",
      " ME: -1.543 \n",
      " MPE: -0.522 \n",
      " MAE: 1.543 \n",
      " MSE: 2.526 \n",
      " MAPE: 0.522\n"
     ]
    }
   ],
   "source": [
    "myf(X_test['sepal width (cm)'],est1)\n",
    "myf(X_test['sepal width (cm)'],est2)"
   ]
  },
  {
   "cell_type": "code",
   "execution_count": 54,
   "id": "db35d425-36ec-48da-825f-5a416473b15b",
   "metadata": {},
   "outputs": [
    {
     "name": "stdout",
     "output_type": "stream",
     "text": [
      "              precision    recall  f1-score   support\n",
      "\n",
      "           0       0.71      0.50      0.59        10\n",
      "           1       0.33      0.20      0.25        10\n",
      "           2       0.59      1.00      0.74        10\n",
      "\n",
      "    accuracy                           0.57        30\n",
      "   macro avg       0.55      0.57      0.53        30\n",
      "weighted avg       0.55      0.57      0.53        30\n",
      "\n"
     ]
    }
   ],
   "source": [
    "est3=percentile(X_train['sepal length (cm)'], [25, 50])\n",
    "y_hat=np.zeros(len(y_test))\n",
    "y_hat[X_test['sepal length (cm)']>est3[0]]=1\n",
    "y_hat[X_test['sepal length (cm)']>est3[1]]=2\n",
    "y_hat=y_hat.astype('int')\n",
    "print(cr(y_test.astype('int'),y_hat))"
   ]
  },
  {
   "cell_type": "code",
   "execution_count": 57,
   "id": "e00d476e-9a99-488a-9608-5407b48c5b79",
   "metadata": {},
   "outputs": [
    {
     "name": "stdout",
     "output_type": "stream",
     "text": [
      "              precision    recall  f1-score   support\n",
      "\n",
      "           0       0.69      0.90      0.78        10\n",
      "           1       0.38      0.30      0.33        10\n",
      "           2       0.67      0.60      0.63        10\n",
      "\n",
      "    accuracy                           0.60        30\n",
      "   macro avg       0.58      0.60      0.58        30\n",
      "weighted avg       0.58      0.60      0.58        30\n",
      "\n"
     ]
    }
   ],
   "source": [
    "est4=percentile(X_train['sepal length (cm)'], [50,75])\n",
    "y_hat2=np.zeros(len(y_test))\n",
    "y_hat2[X_test['sepal length (cm)']>est4[0]]=1\n",
    "y_hat2[X_test['sepal length (cm)']>est4[1]]=2\n",
    "y_hat2=y_hat2.astype('int')\n",
    "print(cr(y_test.astype('int'),y_hat2))"
   ]
  },
  {
   "cell_type": "code",
   "execution_count": null,
   "id": "99593cb9-7dc5-4f2a-86f3-3ecbf6cc028d",
   "metadata": {},
   "outputs": [],
   "source": []
  }
 ],
 "metadata": {
  "kernelspec": {
   "display_name": "Python 3 (ipykernel)",
   "language": "python",
   "name": "python3"
  },
  "language_info": {
   "codemirror_mode": {
    "name": "ipython",
    "version": 3
   },
   "file_extension": ".py",
   "mimetype": "text/x-python",
   "name": "python",
   "nbconvert_exporter": "python",
   "pygments_lexer": "ipython3",
   "version": "3.12.4"
  }
 },
 "nbformat": 4,
 "nbformat_minor": 5
}
