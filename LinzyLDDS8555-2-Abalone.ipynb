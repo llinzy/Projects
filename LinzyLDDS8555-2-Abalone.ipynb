{
 "cells": [
  {
   "cell_type": "code",
   "execution_count": 1,
   "id": "fd8900bc-9c54-4459-a5b3-3895ad93e92b",
   "metadata": {},
   "outputs": [],
   "source": [
    "import pandas as pd\n",
    "from sklearn.preprocessing import PowerTransformer\n",
    "pt = PowerTransformer(method='yeo-johnson')\n",
    "from scipy.stats import kstest, norm\n",
    "import numpy as np\n",
    "import statsmodels.api as sm\n",
    "import itertools\n",
    "from sklearn.model_selection import train_test_split\n",
    "from sklearn.preprocessing import LabelEncoder\n",
    "from sklearn.preprocessing import StandardScaler\n",
    "import matplotlib.pyplot as plt\n",
    "import warnings\n",
    "warnings.filterwarnings(\"ignore\")"
   ]
  },
  {
   "cell_type": "code",
   "execution_count": 2,
   "id": "d8f5fecc-a82d-46b5-a5aa-266c407891e4",
   "metadata": {},
   "outputs": [],
   "source": [
    "train=pd.read_csv(\"Abalone/train.csv\")"
   ]
  },
  {
   "cell_type": "code",
   "execution_count": 3,
   "id": "f77efa6e-f623-4a55-b765-b909bf1de0e3",
   "metadata": {},
   "outputs": [],
   "source": [
    "#encode the categorical data to numeric"
   ]
  },
  {
   "cell_type": "code",
   "execution_count": 4,
   "id": "4b91d9cd-1dc8-4a23-aa7d-669f56f4e15a",
   "metadata": {},
   "outputs": [],
   "source": [
    "labeler=LabelEncoder()\n",
    "sex_label=labeler.fit_transform(train[\"Sex\"])"
   ]
  },
  {
   "cell_type": "code",
   "execution_count": 5,
   "id": "604dae7e-5eac-48f4-b444-1fbfc35373f0",
   "metadata": {},
   "outputs": [
    {
     "name": "stdout",
     "output_type": "stream",
     "text": [
      "{'F': 0, 'I': 1, 'M': 2}\n"
     ]
    }
   ],
   "source": [
    "mapping = dict(zip(labeler.classes_, range(len(labeler.classes_))))\n",
    "print(mapping)"
   ]
  },
  {
   "cell_type": "code",
   "execution_count": 6,
   "id": "3ae32f6c-9a67-473d-b447-0ba61f788bf5",
   "metadata": {},
   "outputs": [],
   "source": [
    "train[\"Sex\"]=sex_label"
   ]
  },
  {
   "cell_type": "code",
   "execution_count": 7,
   "id": "34b2fbf5-24e7-458e-b7da-1aea8852b542",
   "metadata": {},
   "outputs": [],
   "source": [
    "#Create an interactive variables"
   ]
  },
  {
   "cell_type": "code",
   "execution_count": 8,
   "id": "b6317635-c91f-4e78-aa94-cca156c25898",
   "metadata": {},
   "outputs": [],
   "source": [
    "train[\"Diff_Len_Diametr\"]=train[\"Length\"]-train[\"Diameter\"]"
   ]
  },
  {
   "cell_type": "code",
   "execution_count": 9,
   "id": "2697f31c-602d-4530-92e5-50147c70a271",
   "metadata": {},
   "outputs": [],
   "source": [
    "train[\"Net Weight\"]=train[\"Whole weight\"]-train[\"Whole weight.1\"]-train[\"Whole weight.2\"]-train[\"Shell weight\"]"
   ]
  },
  {
   "cell_type": "code",
   "execution_count": 10,
   "id": "dc201753-05bc-4df0-986a-ef219ecf0930",
   "metadata": {},
   "outputs": [
    {
     "data": {
      "text/html": [
       "<div>\n",
       "<style scoped>\n",
       "    .dataframe tbody tr th:only-of-type {\n",
       "        vertical-align: middle;\n",
       "    }\n",
       "\n",
       "    .dataframe tbody tr th {\n",
       "        vertical-align: top;\n",
       "    }\n",
       "\n",
       "    .dataframe thead th {\n",
       "        text-align: right;\n",
       "    }\n",
       "</style>\n",
       "<table border=\"1\" class=\"dataframe\">\n",
       "  <thead>\n",
       "    <tr style=\"text-align: right;\">\n",
       "      <th></th>\n",
       "      <th>id</th>\n",
       "      <th>Sex</th>\n",
       "      <th>Length</th>\n",
       "      <th>Diameter</th>\n",
       "      <th>Height</th>\n",
       "      <th>Whole weight</th>\n",
       "      <th>Whole weight.1</th>\n",
       "      <th>Whole weight.2</th>\n",
       "      <th>Shell weight</th>\n",
       "      <th>Rings</th>\n",
       "      <th>Diff_Len_Diametr</th>\n",
       "      <th>Net Weight</th>\n",
       "    </tr>\n",
       "  </thead>\n",
       "  <tbody>\n",
       "    <tr>\n",
       "      <th>id</th>\n",
       "      <td>1.000000</td>\n",
       "      <td>-0.003553</td>\n",
       "      <td>0.004724</td>\n",
       "      <td>0.004290</td>\n",
       "      <td>0.005916</td>\n",
       "      <td>0.005228</td>\n",
       "      <td>0.004203</td>\n",
       "      <td>0.004878</td>\n",
       "      <td>0.005887</td>\n",
       "      <td>0.000938</td>\n",
       "      <td>0.005425</td>\n",
       "      <td>0.004311</td>\n",
       "    </tr>\n",
       "    <tr>\n",
       "      <th>Sex</th>\n",
       "      <td>-0.003553</td>\n",
       "      <td>1.000000</td>\n",
       "      <td>-0.020774</td>\n",
       "      <td>-0.021648</td>\n",
       "      <td>-0.029732</td>\n",
       "      <td>-0.027787</td>\n",
       "      <td>-0.017512</td>\n",
       "      <td>-0.032769</td>\n",
       "      <td>-0.033301</td>\n",
       "      <td>-0.026308</td>\n",
       "      <td>-0.013135</td>\n",
       "      <td>-0.023443</td>\n",
       "    </tr>\n",
       "    <tr>\n",
       "      <th>Length</th>\n",
       "      <td>0.004724</td>\n",
       "      <td>-0.020774</td>\n",
       "      <td>1.000000</td>\n",
       "      <td>0.989732</td>\n",
       "      <td>0.916094</td>\n",
       "      <td>0.931449</td>\n",
       "      <td>0.909609</td>\n",
       "      <td>0.913134</td>\n",
       "      <td>0.911073</td>\n",
       "      <td>0.623786</td>\n",
       "      <td>0.834217</td>\n",
       "      <td>0.463946</td>\n",
       "    </tr>\n",
       "    <tr>\n",
       "      <th>Diameter</th>\n",
       "      <td>0.004290</td>\n",
       "      <td>-0.021648</td>\n",
       "      <td>0.989732</td>\n",
       "      <td>1.000000</td>\n",
       "      <td>0.919618</td>\n",
       "      <td>0.933848</td>\n",
       "      <td>0.908466</td>\n",
       "      <td>0.914668</td>\n",
       "      <td>0.917871</td>\n",
       "      <td>0.636832</td>\n",
       "      <td>0.746830</td>\n",
       "      <td>0.468523</td>\n",
       "    </tr>\n",
       "    <tr>\n",
       "      <th>Height</th>\n",
       "      <td>0.005916</td>\n",
       "      <td>-0.029732</td>\n",
       "      <td>0.916094</td>\n",
       "      <td>0.919618</td>\n",
       "      <td>1.000000</td>\n",
       "      <td>0.902344</td>\n",
       "      <td>0.861769</td>\n",
       "      <td>0.886132</td>\n",
       "      <td>0.904019</td>\n",
       "      <td>0.665772</td>\n",
       "      <td>0.714337</td>\n",
       "      <td>0.465563</td>\n",
       "    </tr>\n",
       "    <tr>\n",
       "      <th>Whole weight</th>\n",
       "      <td>0.005228</td>\n",
       "      <td>-0.027787</td>\n",
       "      <td>0.931449</td>\n",
       "      <td>0.933848</td>\n",
       "      <td>0.902344</td>\n",
       "      <td>1.000000</td>\n",
       "      <td>0.971249</td>\n",
       "      <td>0.974319</td>\n",
       "      <td>0.964201</td>\n",
       "      <td>0.617274</td>\n",
       "      <td>0.730877</td>\n",
       "      <td>0.553063</td>\n",
       "    </tr>\n",
       "    <tr>\n",
       "      <th>Whole weight.1</th>\n",
       "      <td>0.004203</td>\n",
       "      <td>-0.017512</td>\n",
       "      <td>0.909609</td>\n",
       "      <td>0.908466</td>\n",
       "      <td>0.861769</td>\n",
       "      <td>0.971249</td>\n",
       "      <td>1.000000</td>\n",
       "      <td>0.949227</td>\n",
       "      <td>0.911800</td>\n",
       "      <td>0.515067</td>\n",
       "      <td>0.727188</td>\n",
       "      <td>0.401208</td>\n",
       "    </tr>\n",
       "    <tr>\n",
       "      <th>Whole weight.2</th>\n",
       "      <td>0.004878</td>\n",
       "      <td>-0.032769</td>\n",
       "      <td>0.913134</td>\n",
       "      <td>0.914668</td>\n",
       "      <td>0.886132</td>\n",
       "      <td>0.974319</td>\n",
       "      <td>0.949227</td>\n",
       "      <td>1.000000</td>\n",
       "      <td>0.937069</td>\n",
       "      <td>0.588954</td>\n",
       "      <td>0.719665</td>\n",
       "      <td>0.454087</td>\n",
       "    </tr>\n",
       "    <tr>\n",
       "      <th>Shell weight</th>\n",
       "      <td>0.005887</td>\n",
       "      <td>-0.033301</td>\n",
       "      <td>0.911073</td>\n",
       "      <td>0.917871</td>\n",
       "      <td>0.904019</td>\n",
       "      <td>0.964201</td>\n",
       "      <td>0.911800</td>\n",
       "      <td>0.937069</td>\n",
       "      <td>1.000000</td>\n",
       "      <td>0.694766</td>\n",
       "      <td>0.697716</td>\n",
       "      <td>0.472541</td>\n",
       "    </tr>\n",
       "    <tr>\n",
       "      <th>Rings</th>\n",
       "      <td>0.000938</td>\n",
       "      <td>-0.026308</td>\n",
       "      <td>0.623786</td>\n",
       "      <td>0.636832</td>\n",
       "      <td>0.665772</td>\n",
       "      <td>0.617274</td>\n",
       "      <td>0.515067</td>\n",
       "      <td>0.588954</td>\n",
       "      <td>0.694766</td>\n",
       "      <td>1.000000</td>\n",
       "      <td>0.445330</td>\n",
       "      <td>0.428556</td>\n",
       "    </tr>\n",
       "    <tr>\n",
       "      <th>Diff_Len_Diametr</th>\n",
       "      <td>0.005425</td>\n",
       "      <td>-0.013135</td>\n",
       "      <td>0.834217</td>\n",
       "      <td>0.746830</td>\n",
       "      <td>0.714337</td>\n",
       "      <td>0.730877</td>\n",
       "      <td>0.727188</td>\n",
       "      <td>0.719665</td>\n",
       "      <td>0.697716</td>\n",
       "      <td>0.445330</td>\n",
       "      <td>1.000000</td>\n",
       "      <td>0.350998</td>\n",
       "    </tr>\n",
       "    <tr>\n",
       "      <th>Net Weight</th>\n",
       "      <td>0.004311</td>\n",
       "      <td>-0.023443</td>\n",
       "      <td>0.463946</td>\n",
       "      <td>0.468523</td>\n",
       "      <td>0.465563</td>\n",
       "      <td>0.553063</td>\n",
       "      <td>0.401208</td>\n",
       "      <td>0.454087</td>\n",
       "      <td>0.472541</td>\n",
       "      <td>0.428556</td>\n",
       "      <td>0.350998</td>\n",
       "      <td>1.000000</td>\n",
       "    </tr>\n",
       "  </tbody>\n",
       "</table>\n",
       "</div>"
      ],
      "text/plain": [
       "                        id       Sex    Length  Diameter    Height  \\\n",
       "id                1.000000 -0.003553  0.004724  0.004290  0.005916   \n",
       "Sex              -0.003553  1.000000 -0.020774 -0.021648 -0.029732   \n",
       "Length            0.004724 -0.020774  1.000000  0.989732  0.916094   \n",
       "Diameter          0.004290 -0.021648  0.989732  1.000000  0.919618   \n",
       "Height            0.005916 -0.029732  0.916094  0.919618  1.000000   \n",
       "Whole weight      0.005228 -0.027787  0.931449  0.933848  0.902344   \n",
       "Whole weight.1    0.004203 -0.017512  0.909609  0.908466  0.861769   \n",
       "Whole weight.2    0.004878 -0.032769  0.913134  0.914668  0.886132   \n",
       "Shell weight      0.005887 -0.033301  0.911073  0.917871  0.904019   \n",
       "Rings             0.000938 -0.026308  0.623786  0.636832  0.665772   \n",
       "Diff_Len_Diametr  0.005425 -0.013135  0.834217  0.746830  0.714337   \n",
       "Net Weight        0.004311 -0.023443  0.463946  0.468523  0.465563   \n",
       "\n",
       "                  Whole weight  Whole weight.1  Whole weight.2  Shell weight  \\\n",
       "id                    0.005228        0.004203        0.004878      0.005887   \n",
       "Sex                  -0.027787       -0.017512       -0.032769     -0.033301   \n",
       "Length                0.931449        0.909609        0.913134      0.911073   \n",
       "Diameter              0.933848        0.908466        0.914668      0.917871   \n",
       "Height                0.902344        0.861769        0.886132      0.904019   \n",
       "Whole weight          1.000000        0.971249        0.974319      0.964201   \n",
       "Whole weight.1        0.971249        1.000000        0.949227      0.911800   \n",
       "Whole weight.2        0.974319        0.949227        1.000000      0.937069   \n",
       "Shell weight          0.964201        0.911800        0.937069      1.000000   \n",
       "Rings                 0.617274        0.515067        0.588954      0.694766   \n",
       "Diff_Len_Diametr      0.730877        0.727188        0.719665      0.697716   \n",
       "Net Weight            0.553063        0.401208        0.454087      0.472541   \n",
       "\n",
       "                     Rings  Diff_Len_Diametr  Net Weight  \n",
       "id                0.000938          0.005425    0.004311  \n",
       "Sex              -0.026308         -0.013135   -0.023443  \n",
       "Length            0.623786          0.834217    0.463946  \n",
       "Diameter          0.636832          0.746830    0.468523  \n",
       "Height            0.665772          0.714337    0.465563  \n",
       "Whole weight      0.617274          0.730877    0.553063  \n",
       "Whole weight.1    0.515067          0.727188    0.401208  \n",
       "Whole weight.2    0.588954          0.719665    0.454087  \n",
       "Shell weight      0.694766          0.697716    0.472541  \n",
       "Rings             1.000000          0.445330    0.428556  \n",
       "Diff_Len_Diametr  0.445330          1.000000    0.350998  \n",
       "Net Weight        0.428556          0.350998    1.000000  "
      ]
     },
     "execution_count": 10,
     "metadata": {},
     "output_type": "execute_result"
    }
   ],
   "source": [
    "#Check for multicollinearity\n",
    "train.corr()"
   ]
  },
  {
   "cell_type": "code",
   "execution_count": 11,
   "id": "8c4c2191-5bf4-4930-b1f5-738540ca095b",
   "metadata": {},
   "outputs": [
    {
     "data": {
      "text/plain": [
       "Index(['id', 'Sex', 'Length', 'Diameter', 'Height', 'Whole weight',\n",
       "       'Whole weight.1', 'Whole weight.2', 'Shell weight', 'Rings',\n",
       "       'Diff_Len_Diametr', 'Net Weight'],\n",
       "      dtype='object')"
      ]
     },
     "execution_count": 11,
     "metadata": {},
     "output_type": "execute_result"
    }
   ],
   "source": [
    "train.columns"
   ]
  },
  {
   "cell_type": "code",
   "execution_count": 12,
   "id": "112c0ed8-b938-49b7-b6ca-e854cd9ab563",
   "metadata": {},
   "outputs": [],
   "source": [
    "#Remove hightly correlated variables to address multicollinearity"
   ]
  },
  {
   "cell_type": "code",
   "execution_count": 13,
   "id": "b801a855-61b9-4b92-aa43-8a22259cde36",
   "metadata": {},
   "outputs": [],
   "source": [
    "df=train[['id', 'Sex', 'Height', 'Diff_Len_Diametr', 'Net Weight', 'Rings']]"
   ]
  },
  {
   "cell_type": "code",
   "execution_count": 14,
   "id": "ebcc8304-eb0c-49bb-8b17-173a53aebf68",
   "metadata": {},
   "outputs": [],
   "source": [
    "#check for outliers"
   ]
  },
  {
   "cell_type": "code",
   "execution_count": 15,
   "id": "baac78ae-dbc7-4bf9-9dd2-cbb9dc39ee06",
   "metadata": {},
   "outputs": [],
   "source": [
    "def IntQ(data):\n",
    "    q1 = np.percentile(data, 25)\n",
    "    q3 = np.percentile(data, 75)\n",
    "    iqr = q3 - q1\n",
    "    \n",
    "    lower_bound = q1 - 1.5 * iqr\n",
    "    upper_bound = q3 + 1.5 * iqr\n",
    "    \n",
    "    outliers = data[(data < lower_bound) | (data > upper_bound)]\n",
    "    return (\"Outliers:\", outliers)"
   ]
  },
  {
   "cell_type": "code",
   "execution_count": 16,
   "id": "211e3579-6b2b-4f95-a79d-4351ce401701",
   "metadata": {},
   "outputs": [],
   "source": [
    "indexes=[]\n",
    "for i in df.columns:\n",
    "    indexes.append(IntQ(train[i])[1].index.tolist())\n",
    "indexes=list(itertools.chain.from_iterable(indexes))"
   ]
  },
  {
   "cell_type": "code",
   "execution_count": 17,
   "id": "e6f22cd9-be02-4f20-ba94-7e0035e164f2",
   "metadata": {},
   "outputs": [
    {
     "data": {
      "text/plain": [
       "11597"
      ]
     },
     "execution_count": 17,
     "metadata": {},
     "output_type": "execute_result"
    }
   ],
   "source": [
    "len(indexes)"
   ]
  },
  {
   "cell_type": "code",
   "execution_count": 18,
   "id": "089f1581-64f4-4e63-9489-dc8aea5f28fb",
   "metadata": {},
   "outputs": [],
   "source": [
    "otlr_rm=df.drop(index=indexes)"
   ]
  },
  {
   "cell_type": "code",
   "execution_count": 19,
   "id": "3b38efe1-4978-4ee4-b54d-3406a12676e3",
   "metadata": {},
   "outputs": [],
   "source": [
    "#Standardize data\n",
    "scaler = StandardScaler()\n",
    "df_scaled = pd.DataFrame(scaler.fit_transform(otlr_rm), columns=otlr_rm.columns)"
   ]
  },
  {
   "cell_type": "code",
   "execution_count": 20,
   "id": "679e9974-6bf0-44cd-aa17-a8ea68bd3f99",
   "metadata": {},
   "outputs": [],
   "source": [
    "transformed_X = pd.DataFrame(pt.fit_transform(df_scaled[['Sex', 'Height', 'Diff_Len_Diametr', 'Net Weight']]))\n",
    "transformed_X.columns=['Sex', 'Height', 'Diff_Len_Diametr', 'Net Weight']"
   ]
  },
  {
   "cell_type": "code",
   "execution_count": 21,
   "id": "d22bcea1-e71d-46ca-a0f4-476e7d967e6f",
   "metadata": {},
   "outputs": [
    {
     "data": {
      "text/plain": [
       "(array([22384.,     0.,     0.,     0.,     0.,     0.,     0.,     0.,\n",
       "            0.,     0.,     0.,     0.,     0.,     0., 31263.,     0.,\n",
       "            0.,     0.,     0.,     0.,     0.,     0.,     0.,     0.,\n",
       "            0.,     0.,     0.,     0.,     0., 26936.]),\n",
       " array([-1.33237155, -1.24707747, -1.1617834 , -1.07648932, -0.99119524,\n",
       "        -0.90590117, -0.82060709, -0.73531301, -0.65001893, -0.56472486,\n",
       "        -0.47943078, -0.3941367 , -0.30884263, -0.22354855, -0.13825447,\n",
       "        -0.0529604 ,  0.03233368,  0.11762776,  0.20292184,  0.28821591,\n",
       "         0.37350999,  0.45880407,  0.54409814,  0.62939222,  0.7146863 ,\n",
       "         0.79998038,  0.88527445,  0.97056853,  1.05586261,  1.14115668,\n",
       "         1.22645076]),\n",
       " <BarContainer object of 30 artists>)"
      ]
     },
     "execution_count": 21,
     "metadata": {},
     "output_type": "execute_result"
    },
    {
     "data": {
      "image/png": "[encoded data removed]",
      "text/plain": [
       "<Figure size 640x480 with 1 Axes>"
      ]
     },
     "metadata": {},
     "output_type": "display_data"
    }
   ],
   "source": [
    "plt.hist(transformed_X[\"Sex\"], bins=30, color='skyblue', edgecolor='black')"
   ]
  },
  {
   "cell_type": "code",
   "execution_count": 22,
   "id": "7213bc15-aa6e-447b-9946-82aa05d1b618",
   "metadata": {},
   "outputs": [
    {
     "data": {
      "text/plain": [
       "(array([ 209.,  453.,  527., 1507., 1153., 3157., 1707., 5068., 3469.,\n",
       "        5408., 2854., 7673., 3455., 4844., 9945., 5411., 4789., 6641.,\n",
       "        2412., 3168., 1575., 1254., 2299.,  636.,  373.,  147.,  192.,\n",
       "          92.,   73.,   92.]),\n",
       " array([-2.60257352, -2.40549571, -2.20841789, -2.01134008, -1.81426227,\n",
       "        -1.61718446, -1.42010665, -1.22302884, -1.02595103, -0.82887322,\n",
       "        -0.63179541, -0.43471759, -0.23763978, -0.04056197,  0.15651584,\n",
       "         0.35359365,  0.55067146,  0.74774927,  0.94482708,  1.14190489,\n",
       "         1.3389827 ,  1.53606052,  1.73313833,  1.93021614,  2.12729395,\n",
       "         2.32437176,  2.52144957,  2.71852738,  2.91560519,  3.112683  ,\n",
       "         3.30976081]),\n",
       " <BarContainer object of 30 artists>)"
      ]
     },
     "execution_count": 22,
     "metadata": {},
     "output_type": "execute_result"
    },
    {
     "data": {
      "image/png": "[encoded data removed]",
      "text/plain": [
       "<Figure size 640x480 with 1 Axes>"
      ]
     },
     "metadata": {},
     "output_type": "display_data"
    }
   ],
   "source": [
    "plt.hist(transformed_X[\"Height\"], bins=30, color='skyblue', edgecolor='black')"
   ]
  },
  {
   "cell_type": "code",
   "execution_count": 23,
   "id": "c0789365-cb74-4ca9-a78d-aa3c887e007c",
   "metadata": {},
   "outputs": [
    {
     "data": {
      "text/plain": [
       "(array([4.360e+02, 6.790e+02, 9.570e+02, 1.341e+03, 1.835e+03, 2.053e+03,\n",
       "        2.890e+03, 3.448e+03, 4.357e+03, 1.000e+00, 5.066e+03, 5.015e+03,\n",
       "        6.294e+03, 7.386e+03, 7.264e+03, 1.000e+00, 8.562e+03, 5.760e+03,\n",
       "        5.017e+03, 0.000e+00, 3.943e+03, 2.772e+03, 1.948e+03, 0.000e+00,\n",
       "        1.369e+03, 9.550e+02, 0.000e+00, 5.970e+02, 3.920e+02, 2.450e+02]),\n",
       " array([-2.44916022, -2.27226181, -2.0953634 , -1.91846499, -1.74156657,\n",
       "        -1.56466816, -1.38776975, -1.21087134, -1.03397293, -0.85707452,\n",
       "        -0.68017611, -0.5032777 , -0.32637929, -0.14948088,  0.02741753,\n",
       "         0.20431594,  0.38121435,  0.55811277,  0.73501118,  0.91190959,\n",
       "         1.088808  ,  1.26570641,  1.44260482,  1.61950323,  1.79640164,\n",
       "         1.97330005,  2.15019846,  2.32709687,  2.50399528,  2.68089369,\n",
       "         2.8577921 ]),\n",
       " <BarContainer object of 30 artists>)"
      ]
     },
     "execution_count": 23,
     "metadata": {},
     "output_type": "execute_result"
    },
    {
     "data": {
      "image/png": "[encoded data removed]",
      "text/plain": [
       "<Figure size 640x480 with 1 Axes>"
      ]
     },
     "metadata": {},
     "output_type": "display_data"
    }
   ],
   "source": [
    "plt.hist(transformed_X[\"Diff_Len_Diametr\"], bins=30, color='skyblue', edgecolor='black')"
   ]
  },
  {
   "cell_type": "code",
   "execution_count": 24,
   "id": "f5969241-3eb2-44f1-926d-0dfefda5804b",
   "metadata": {},
   "outputs": [
    {
     "data": {
      "text/plain": [
       "(array([  43.,   44.,   66.,   64.,  109.,  126.,  176.,  245.,  389.,\n",
       "         576.,  865., 1353., 2134., 3386., 5598., 6767., 7092., 7006.,\n",
       "        6267., 6238., 5943., 5392., 4711., 4168., 3367., 2838., 2077.,\n",
       "        1619., 1133.,  791.]),\n",
       " array([-4.14473693, -3.92585237, -3.70696781, -3.48808325, -3.2691987 ,\n",
       "        -3.05031414, -2.83142958, -2.61254502, -2.39366046, -2.17477591,\n",
       "        -1.95589135, -1.73700679, -1.51812223, -1.29923767, -1.08035312,\n",
       "        -0.86146856, -0.642584  , -0.42369944, -0.20481488,  0.01406967,\n",
       "         0.23295423,  0.45183879,  0.67072335,  0.88960791,  1.10849246,\n",
       "         1.32737702,  1.54626158,  1.76514614,  1.9840307 ,  2.20291525,\n",
       "         2.42179981]),\n",
       " <BarContainer object of 30 artists>)"
      ]
     },
     "execution_count": 24,
     "metadata": {},
     "output_type": "execute_result"
    },
    {
     "data": {
      "image/png": "[encoded data removed]",
      "text/plain": [
       "<Figure size 640x480 with 1 Axes>"
      ]
     },
     "metadata": {},
     "output_type": "display_data"
    }
   ],
   "source": [
    "plt.hist(transformed_X[\"Net Weight\"], bins=30, color='skyblue', edgecolor='black')"
   ]
  },
  {
   "cell_type": "code",
   "execution_count": 25,
   "id": "69aba117-c20a-4569-96a5-e5b6b2de3eb9",
   "metadata": {},
   "outputs": [],
   "source": [
    "X_train=transformed_X"
   ]
  },
  {
   "cell_type": "code",
   "execution_count": 26,
   "id": "bf69d891-43dc-4305-86a2-d47aadb2bda8",
   "metadata": {},
   "outputs": [],
   "source": [
    "y_train=df_scaled[\"Rings\"]"
   ]
  },
  {
   "cell_type": "code",
   "execution_count": 27,
   "id": "bd3f4afd-0e9f-4536-9bee-0bba4e47cb3a",
   "metadata": {},
   "outputs": [],
   "source": [
    "#train the model and view summary"
   ]
  },
  {
   "cell_type": "code",
   "execution_count": 28,
   "id": "56518aa3-5cb3-4550-a78b-da736d4b0d15",
   "metadata": {},
   "outputs": [
    {
     "data": {
      "text/html": [
       "<table class=\"simpletable\">\n",
       "<caption>OLS Regression Results</caption>\n",
       "<tr>\n",
       "  <th>Dep. Variable:</th>          <td>Rings</td>      <th>  R-squared:         </th> <td>   0.497</td> \n",
       "</tr>\n",
       "<tr>\n",
       "  <th>Model:</th>                   <td>OLS</td>       <th>  Adj. R-squared:    </th> <td>   0.496</td> \n",
       "</tr>\n",
       "<tr>\n",
       "  <th>Method:</th>             <td>Least Squares</td>  <th>  F-statistic:       </th> <td>1.986e+04</td>\n",
       "</tr>\n",
       "<tr>\n",
       "  <th>Date:</th>             <td>Sat, 02 Aug 2025</td> <th>  Prob (F-statistic):</th>  <td>  0.00</td>  \n",
       "</tr>\n",
       "<tr>\n",
       "  <th>Time:</th>                 <td>21:39:28</td>     <th>  Log-Likelihood:    </th> <td> -86695.</td> \n",
       "</tr>\n",
       "<tr>\n",
       "  <th>No. Observations:</th>      <td> 80583</td>      <th>  AIC:               </th> <td>1.734e+05</td>\n",
       "</tr>\n",
       "<tr>\n",
       "  <th>Df Residuals:</th>          <td> 80578</td>      <th>  BIC:               </th> <td>1.734e+05</td>\n",
       "</tr>\n",
       "<tr>\n",
       "  <th>Df Model:</th>              <td>     4</td>      <th>                     </th>     <td> </td>    \n",
       "</tr>\n",
       "<tr>\n",
       "  <th>Covariance Type:</th>      <td>nonrobust</td>    <th>                     </th>     <td> </td>    \n",
       "</tr>\n",
       "</table>\n",
       "<table class=\"simpletable\">\n",
       "<tr>\n",
       "          <td></td>            <th>coef</th>     <th>std err</th>      <th>t</th>      <th>P>|t|</th>  <th>[0.025</th>    <th>0.975]</th>  \n",
       "</tr>\n",
       "<tr>\n",
       "  <th>const</th>            <td>-1.967e-16</td> <td>    0.002</td> <td>-7.87e-14</td> <td> 1.000</td> <td>   -0.005</td> <td>    0.005</td>\n",
       "</tr>\n",
       "<tr>\n",
       "  <th>Sex</th>              <td>    0.0031</td> <td>    0.002</td> <td>    1.229</td> <td> 0.219</td> <td>   -0.002</td> <td>    0.008</td>\n",
       "</tr>\n",
       "<tr>\n",
       "  <th>Height</th>           <td>    0.6528</td> <td>    0.004</td> <td>  178.133</td> <td> 0.000</td> <td>    0.646</td> <td>    0.660</td>\n",
       "</tr>\n",
       "<tr>\n",
       "  <th>Diff_Len_Diametr</th> <td>   -0.0084</td> <td>    0.004</td> <td>   -2.379</td> <td> 0.017</td> <td>   -0.015</td> <td>   -0.001</td>\n",
       "</tr>\n",
       "<tr>\n",
       "  <th>Net Weight</th>       <td>    0.1166</td> <td>    0.003</td> <td>   42.073</td> <td> 0.000</td> <td>    0.111</td> <td>    0.122</td>\n",
       "</tr>\n",
       "</table>\n",
       "<table class=\"simpletable\">\n",
       "<tr>\n",
       "  <th>Omnibus:</th>       <td>13161.601</td> <th>  Durbin-Watson:     </th> <td>   1.990</td> \n",
       "</tr>\n",
       "<tr>\n",
       "  <th>Prob(Omnibus):</th>  <td> 0.000</td>   <th>  Jarque-Bera (JB):  </th> <td>23010.164</td>\n",
       "</tr>\n",
       "<tr>\n",
       "  <th>Skew:</th>           <td> 1.064</td>   <th>  Prob(JB):          </th> <td>    0.00</td> \n",
       "</tr>\n",
       "<tr>\n",
       "  <th>Kurtosis:</th>       <td> 4.525</td>   <th>  Cond. No.          </th> <td>    2.63</td> \n",
       "</tr>\n",
       "</table><br/><br/>Notes:<br/>[1] Standard Errors assume that the covariance matrix of the errors is correctly specified."
      ],
      "text/latex": [
       "\\begin{center}\n",
       "\\begin{tabular}{lclc}\n",
       "\\toprule\n",
       "\\textbf{Dep. Variable:}     &      Rings       & \\textbf{  R-squared:         } &     0.497   \\\\\n",
       "\\textbf{Model:}             &       OLS        & \\textbf{  Adj. R-squared:    } &     0.496   \\\\\n",
       "\\textbf{Method:}            &  Least Squares   & \\textbf{  F-statistic:       } & 1.986e+04   \\\\\n",
       "\\textbf{Date:}              & Sat, 02 Aug 2025 & \\textbf{  Prob (F-statistic):} &     0.00    \\\\\n",
       "\\textbf{Time:}              &     21:39:28     & \\textbf{  Log-Likelihood:    } &   -86695.   \\\\\n",
       "\\textbf{No. Observations:}  &       80583      & \\textbf{  AIC:               } & 1.734e+05   \\\\\n",
       "\\textbf{Df Residuals:}      &       80578      & \\textbf{  BIC:               } & 1.734e+05   \\\\\n",
       "\\textbf{Df Model:}          &           4      & \\textbf{                     } &             \\\\\n",
       "\\textbf{Covariance Type:}   &    nonrobust     & \\textbf{                     } &             \\\\\n",
       "\\bottomrule\n",
       "\\end{tabular}\n",
       "\\begin{tabular}{lcccccc}\n",
       "                            & \\textbf{coef} & \\textbf{std err} & \\textbf{t} & \\textbf{P$> |$t$|$} & \\textbf{[0.025} & \\textbf{0.975]}  \\\\\n",
       "\\midrule\n",
       "\\textbf{const}              &   -1.967e-16  &        0.002     & -7.87e-14  &         1.000        &       -0.005    &        0.005     \\\\\n",
       "\\textbf{Sex}                &       0.0031  &        0.002     &     1.229  &         0.219        &       -0.002    &        0.008     \\\\\n",
       "\\textbf{Height}             &       0.6528  &        0.004     &   178.133  &         0.000        &        0.646    &        0.660     \\\\\n",
       "\\textbf{Diff\\_Len\\_Diametr} &      -0.0084  &        0.004     &    -2.379  &         0.017        &       -0.015    &       -0.001     \\\\\n",
       "\\textbf{Net Weight}         &       0.1166  &        0.003     &    42.073  &         0.000        &        0.111    &        0.122     \\\\\n",
       "\\bottomrule\n",
       "\\end{tabular}\n",
       "\\begin{tabular}{lclc}\n",
       "\\textbf{Omnibus:}       & 13161.601 & \\textbf{  Durbin-Watson:     } &     1.990  \\\\\n",
       "\\textbf{Prob(Omnibus):} &    0.000  & \\textbf{  Jarque-Bera (JB):  } & 23010.164  \\\\\n",
       "\\textbf{Skew:}          &    1.064  & \\textbf{  Prob(JB):          } &      0.00  \\\\\n",
       "\\textbf{Kurtosis:}      &    4.525  & \\textbf{  Cond. No.          } &      2.63  \\\\\n",
       "\\bottomrule\n",
       "\\end{tabular}\n",
       "%\\caption{OLS Regression Results}\n",
       "\\end{center}\n",
       "\n",
       "Notes: \\newline\n",
       " [1] Standard Errors assume that the covariance matrix of the errors is correctly specified."
      ],
      "text/plain": [
       "<class 'statsmodels.iolib.summary.Summary'>\n",
       "\"\"\"\n",
       "                            OLS Regression Results                            \n",
       "==============================================================================\n",
       "Dep. Variable:                  Rings   R-squared:                       0.497\n",
       "Model:                            OLS   Adj. R-squared:                  0.496\n",
       "Method:                 Least Squares   F-statistic:                 1.986e+04\n",
       "Date:                Sat, 02 Aug 2025   Prob (F-statistic):               0.00\n",
       "Time:                        21:39:28   Log-Likelihood:                -86695.\n",
       "No. Observations:               80583   AIC:                         1.734e+05\n",
       "Df Residuals:                   80578   BIC:                         1.734e+05\n",
       "Df Model:                           4                                         \n",
       "Covariance Type:            nonrobust                                         \n",
       "====================================================================================\n",
       "                       coef    std err          t      P>|t|      [0.025      0.975]\n",
       "------------------------------------------------------------------------------------\n",
       "const            -1.967e-16      0.002  -7.87e-14      1.000      -0.005       0.005\n",
       "Sex                  0.0031      0.002      1.229      0.219      -0.002       0.008\n",
       "Height               0.6528      0.004    178.133      0.000       0.646       0.660\n",
       "Diff_Len_Diametr    -0.0084      0.004     -2.379      0.017      -0.015      -0.001\n",
       "Net Weight           0.1166      0.003     42.073      0.000       0.111       0.122\n",
       "==============================================================================\n",
       "Omnibus:                    13161.601   Durbin-Watson:                   1.990\n",
       "Prob(Omnibus):                  0.000   Jarque-Bera (JB):            23010.164\n",
       "Skew:                           1.064   Prob(JB):                         0.00\n",
       "Kurtosis:                       4.525   Cond. No.                         2.63\n",
       "==============================================================================\n",
       "\n",
       "Notes:\n",
       "[1] Standard Errors assume that the covariance matrix of the errors is correctly specified.\n",
       "\"\"\""
      ]
     },
     "execution_count": 28,
     "metadata": {},
     "output_type": "execute_result"
    }
   ],
   "source": [
    "x_const=sm.add_constant(X_train)\n",
    "model=sm.OLS(y_train, x_const).fit()\n",
    "model.summary()"
   ]
  },
  {
   "cell_type": "code",
   "execution_count": 29,
   "id": "79a6bf70-06f0-4fe5-a8f7-fabf90206af0",
   "metadata": {},
   "outputs": [],
   "source": [
    "X_train2=transformed_X[['Height', 'Diff_Len_Diametr', 'Net Weight']]"
   ]
  },
  {
   "cell_type": "code",
   "execution_count": 30,
   "id": "2b903e79-ea8f-4a66-98bb-beb229cf77c3",
   "metadata": {},
   "outputs": [],
   "source": [
    "y_train2=df_scaled[\"Rings\"]"
   ]
  },
  {
   "cell_type": "code",
   "execution_count": 31,
   "id": "518e222c-bd0c-4ede-bcc6-a2e7c6f20ad3",
   "metadata": {},
   "outputs": [
    {
     "data": {
      "text/html": [
       "<table class=\"simpletable\">\n",
       "<caption>OLS Regression Results</caption>\n",
       "<tr>\n",
       "  <th>Dep. Variable:</th>          <td>Rings</td>      <th>  R-squared:         </th> <td>   0.496</td> \n",
       "</tr>\n",
       "<tr>\n",
       "  <th>Model:</th>                   <td>OLS</td>       <th>  Adj. R-squared:    </th> <td>   0.496</td> \n",
       "</tr>\n",
       "<tr>\n",
       "  <th>Method:</th>             <td>Least Squares</td>  <th>  F-statistic:       </th> <td>2.649e+04</td>\n",
       "</tr>\n",
       "<tr>\n",
       "  <th>Date:</th>             <td>Sat, 02 Aug 2025</td> <th>  Prob (F-statistic):</th>  <td>  0.00</td>  \n",
       "</tr>\n",
       "<tr>\n",
       "  <th>Time:</th>                 <td>21:39:28</td>     <th>  Log-Likelihood:    </th> <td> -86696.</td> \n",
       "</tr>\n",
       "<tr>\n",
       "  <th>No. Observations:</th>      <td> 80583</td>      <th>  AIC:               </th> <td>1.734e+05</td>\n",
       "</tr>\n",
       "<tr>\n",
       "  <th>Df Residuals:</th>          <td> 80579</td>      <th>  BIC:               </th> <td>1.734e+05</td>\n",
       "</tr>\n",
       "<tr>\n",
       "  <th>Df Model:</th>              <td>     3</td>      <th>                     </th>     <td> </td>    \n",
       "</tr>\n",
       "<tr>\n",
       "  <th>Covariance Type:</th>      <td>nonrobust</td>    <th>                     </th>     <td> </td>    \n",
       "</tr>\n",
       "</table>\n",
       "<table class=\"simpletable\">\n",
       "<tr>\n",
       "          <td></td>            <th>coef</th>     <th>std err</th>      <th>t</th>      <th>P>|t|</th>  <th>[0.025</th>    <th>0.975]</th>  \n",
       "</tr>\n",
       "<tr>\n",
       "  <th>const</th>            <td>-1.967e-16</td> <td>    0.002</td> <td>-7.87e-14</td> <td> 1.000</td> <td>   -0.005</td> <td>    0.005</td>\n",
       "</tr>\n",
       "<tr>\n",
       "  <th>Height</th>           <td>    0.6527</td> <td>    0.004</td> <td>  178.132</td> <td> 0.000</td> <td>    0.646</td> <td>    0.660</td>\n",
       "</tr>\n",
       "<tr>\n",
       "  <th>Diff_Len_Diametr</th> <td>   -0.0083</td> <td>    0.004</td> <td>   -2.365</td> <td> 0.018</td> <td>   -0.015</td> <td>   -0.001</td>\n",
       "</tr>\n",
       "<tr>\n",
       "  <th>Net Weight</th>       <td>    0.1166</td> <td>    0.003</td> <td>   42.080</td> <td> 0.000</td> <td>    0.111</td> <td>    0.122</td>\n",
       "</tr>\n",
       "</table>\n",
       "<table class=\"simpletable\">\n",
       "<tr>\n",
       "  <th>Omnibus:</th>       <td>13157.962</td> <th>  Durbin-Watson:     </th> <td>   1.990</td> \n",
       "</tr>\n",
       "<tr>\n",
       "  <th>Prob(Omnibus):</th>  <td> 0.000</td>   <th>  Jarque-Bera (JB):  </th> <td>23001.131</td>\n",
       "</tr>\n",
       "<tr>\n",
       "  <th>Skew:</th>           <td> 1.064</td>   <th>  Prob(JB):          </th> <td>    0.00</td> \n",
       "</tr>\n",
       "<tr>\n",
       "  <th>Kurtosis:</th>       <td> 4.524</td>   <th>  Cond. No.          </th> <td>    2.63</td> \n",
       "</tr>\n",
       "</table><br/><br/>Notes:<br/>[1] Standard Errors assume that the covariance matrix of the errors is correctly specified."
      ],
      "text/latex": [
       "\\begin{center}\n",
       "\\begin{tabular}{lclc}\n",
       "\\toprule\n",
       "\\textbf{Dep. Variable:}     &      Rings       & \\textbf{  R-squared:         } &     0.496   \\\\\n",
       "\\textbf{Model:}             &       OLS        & \\textbf{  Adj. R-squared:    } &     0.496   \\\\\n",
       "\\textbf{Method:}            &  Least Squares   & \\textbf{  F-statistic:       } & 2.649e+04   \\\\\n",
       "\\textbf{Date:}              & Sat, 02 Aug 2025 & \\textbf{  Prob (F-statistic):} &     0.00    \\\\\n",
       "\\textbf{Time:}              &     21:39:28     & \\textbf{  Log-Likelihood:    } &   -86696.   \\\\\n",
       "\\textbf{No. Observations:}  &       80583      & \\textbf{  AIC:               } & 1.734e+05   \\\\\n",
       "\\textbf{Df Residuals:}      &       80579      & \\textbf{  BIC:               } & 1.734e+05   \\\\\n",
       "\\textbf{Df Model:}          &           3      & \\textbf{                     } &             \\\\\n",
       "\\textbf{Covariance Type:}   &    nonrobust     & \\textbf{                     } &             \\\\\n",
       "\\bottomrule\n",
       "\\end{tabular}\n",
       "\\begin{tabular}{lcccccc}\n",
       "                            & \\textbf{coef} & \\textbf{std err} & \\textbf{t} & \\textbf{P$> |$t$|$} & \\textbf{[0.025} & \\textbf{0.975]}  \\\\\n",
       "\\midrule\n",
       "\\textbf{const}              &   -1.967e-16  &        0.002     & -7.87e-14  &         1.000        &       -0.005    &        0.005     \\\\\n",
       "\\textbf{Height}             &       0.6527  &        0.004     &   178.132  &         0.000        &        0.646    &        0.660     \\\\\n",
       "\\textbf{Diff\\_Len\\_Diametr} &      -0.0083  &        0.004     &    -2.365  &         0.018        &       -0.015    &       -0.001     \\\\\n",
       "\\textbf{Net Weight}         &       0.1166  &        0.003     &    42.080  &         0.000        &        0.111    &        0.122     \\\\\n",
       "\\bottomrule\n",
       "\\end{tabular}\n",
       "\\begin{tabular}{lclc}\n",
       "\\textbf{Omnibus:}       & 13157.962 & \\textbf{  Durbin-Watson:     } &     1.990  \\\\\n",
       "\\textbf{Prob(Omnibus):} &    0.000  & \\textbf{  Jarque-Bera (JB):  } & 23001.131  \\\\\n",
       "\\textbf{Skew:}          &    1.064  & \\textbf{  Prob(JB):          } &      0.00  \\\\\n",
       "\\textbf{Kurtosis:}      &    4.524  & \\textbf{  Cond. No.          } &      2.63  \\\\\n",
       "\\bottomrule\n",
       "\\end{tabular}\n",
       "%\\caption{OLS Regression Results}\n",
       "\\end{center}\n",
       "\n",
       "Notes: \\newline\n",
       " [1] Standard Errors assume that the covariance matrix of the errors is correctly specified."
      ],
      "text/plain": [
       "<class 'statsmodels.iolib.summary.Summary'>\n",
       "\"\"\"\n",
       "                            OLS Regression Results                            \n",
       "==============================================================================\n",
       "Dep. Variable:                  Rings   R-squared:                       0.496\n",
       "Model:                            OLS   Adj. R-squared:                  0.496\n",
       "Method:                 Least Squares   F-statistic:                 2.649e+04\n",
       "Date:                Sat, 02 Aug 2025   Prob (F-statistic):               0.00\n",
       "Time:                        21:39:28   Log-Likelihood:                -86696.\n",
       "No. Observations:               80583   AIC:                         1.734e+05\n",
       "Df Residuals:                   80579   BIC:                         1.734e+05\n",
       "Df Model:                           3                                         \n",
       "Covariance Type:            nonrobust                                         \n",
       "====================================================================================\n",
       "                       coef    std err          t      P>|t|      [0.025      0.975]\n",
       "------------------------------------------------------------------------------------\n",
       "const            -1.967e-16      0.002  -7.87e-14      1.000      -0.005       0.005\n",
       "Height               0.6527      0.004    178.132      0.000       0.646       0.660\n",
       "Diff_Len_Diametr    -0.0083      0.004     -2.365      0.018      -0.015      -0.001\n",
       "Net Weight           0.1166      0.003     42.080      0.000       0.111       0.122\n",
       "==============================================================================\n",
       "Omnibus:                    13157.962   Durbin-Watson:                   1.990\n",
       "Prob(Omnibus):                  0.000   Jarque-Bera (JB):            23001.131\n",
       "Skew:                           1.064   Prob(JB):                         0.00\n",
       "Kurtosis:                       4.524   Cond. No.                         2.63\n",
       "==============================================================================\n",
       "\n",
       "Notes:\n",
       "[1] Standard Errors assume that the covariance matrix of the errors is correctly specified.\n",
       "\"\"\""
      ]
     },
     "execution_count": 31,
     "metadata": {},
     "output_type": "execute_result"
    }
   ],
   "source": [
    "x_const2=sm.add_constant(X_train2)\n",
    "model2=sm.OLS(y_train2, x_const2).fit()\n",
    "model2.summary()"
   ]
  },
  {
   "cell_type": "code",
   "execution_count": 32,
   "id": "f836b0bc-4eec-4e0d-9571-435728d2509c",
   "metadata": {},
   "outputs": [],
   "source": [
    "test=pd.read_csv(\"Abalone/test.csv\")"
   ]
  },
  {
   "cell_type": "code",
   "execution_count": 33,
   "id": "1e3728e0-9d41-46cd-b52c-7ca777abd8e5",
   "metadata": {},
   "outputs": [],
   "source": [
    "test[\"Diff_Len_Diametr\"]=test[\"Length\"]-test[\"Diameter\"]\n",
    "test[\"Net Weight\"]=test[\"Whole weight\"]-test[\"Whole weight.1\"]-test[\"Whole weight.2\"]-test[\"Shell weight\"]"
   ]
  },
  {
   "cell_type": "code",
   "execution_count": 34,
   "id": "6269ca0f-cec6-4f6d-84b5-bd1ae09f630b",
   "metadata": {},
   "outputs": [],
   "source": [
    "X_test=test[['Height', 'Diff_Len_Diametr', 'Net Weight']]"
   ]
  },
  {
   "cell_type": "code",
   "execution_count": 42,
   "id": "9456438b-bacc-4c2d-a593-b3eb1dc87053",
   "metadata": {},
   "outputs": [],
   "source": [
    "X_test2=test[['Sex', 'Height', 'Diff_Len_Diametr', 'Net Weight']]"
   ]
  },
  {
   "cell_type": "code",
   "execution_count": 46,
   "id": "7ae84526-640b-4826-8dad-af8c65138db0",
   "metadata": {},
   "outputs": [],
   "source": [
    "sex_label2=labeler.fit_transform(X_test2[\"Sex\"])\n",
    "X_test2[\"Sex\"]=sex_label2"
   ]
  },
  {
   "cell_type": "code",
   "execution_count": 47,
   "id": "1d63ca72-6fb0-47ff-a9fd-eac251f72e28",
   "metadata": {},
   "outputs": [],
   "source": [
    "X_new = sm.add_constant(X_test)\n",
    "X_new2 = sm.add_constant(X_test2)"
   ]
  },
  {
   "cell_type": "code",
   "execution_count": 48,
   "id": "aa7e7c85-0456-4d90-9d0e-a9f98e57295c",
   "metadata": {},
   "outputs": [
    {
     "data": {
      "text/html": [
       "<div>\n",
       "<style scoped>\n",
       "    .dataframe tbody tr th:only-of-type {\n",
       "        vertical-align: middle;\n",
       "    }\n",
       "\n",
       "    .dataframe tbody tr th {\n",
       "        vertical-align: top;\n",
       "    }\n",
       "\n",
       "    .dataframe thead th {\n",
       "        text-align: right;\n",
       "    }\n",
       "</style>\n",
       "<table border=\"1\" class=\"dataframe\">\n",
       "  <thead>\n",
       "    <tr style=\"text-align: right;\">\n",
       "      <th></th>\n",
       "      <th>const</th>\n",
       "      <th>Sex</th>\n",
       "      <th>Height</th>\n",
       "      <th>Diff_Len_Diametr</th>\n",
       "      <th>Net Weight</th>\n",
       "    </tr>\n",
       "  </thead>\n",
       "  <tbody>\n",
       "    <tr>\n",
       "      <th>0</th>\n",
       "      <td>1.0</td>\n",
       "      <td>2</td>\n",
       "      <td>0.155</td>\n",
       "      <td>0.170</td>\n",
       "      <td>0.0065</td>\n",
       "    </tr>\n",
       "    <tr>\n",
       "      <th>1</th>\n",
       "      <td>1.0</td>\n",
       "      <td>2</td>\n",
       "      <td>0.160</td>\n",
       "      <td>0.120</td>\n",
       "      <td>0.0100</td>\n",
       "    </tr>\n",
       "    <tr>\n",
       "      <th>2</th>\n",
       "      <td>1.0</td>\n",
       "      <td>2</td>\n",
       "      <td>0.140</td>\n",
       "      <td>0.140</td>\n",
       "      <td>0.0620</td>\n",
       "    </tr>\n",
       "    <tr>\n",
       "      <th>3</th>\n",
       "      <td>1.0</td>\n",
       "      <td>2</td>\n",
       "      <td>0.145</td>\n",
       "      <td>0.080</td>\n",
       "      <td>0.1000</td>\n",
       "    </tr>\n",
       "    <tr>\n",
       "      <th>4</th>\n",
       "      <td>1.0</td>\n",
       "      <td>1</td>\n",
       "      <td>0.110</td>\n",
       "      <td>0.090</td>\n",
       "      <td>0.0285</td>\n",
       "    </tr>\n",
       "    <tr>\n",
       "      <th>...</th>\n",
       "      <td>...</td>\n",
       "      <td>...</td>\n",
       "      <td>...</td>\n",
       "      <td>...</td>\n",
       "      <td>...</td>\n",
       "    </tr>\n",
       "    <tr>\n",
       "      <th>60406</th>\n",
       "      <td>1.0</td>\n",
       "      <td>1</td>\n",
       "      <td>0.085</td>\n",
       "      <td>0.085</td>\n",
       "      <td>0.0275</td>\n",
       "    </tr>\n",
       "    <tr>\n",
       "      <th>60407</th>\n",
       "      <td>1.0</td>\n",
       "      <td>0</td>\n",
       "      <td>0.145</td>\n",
       "      <td>0.115</td>\n",
       "      <td>0.0840</td>\n",
       "    </tr>\n",
       "    <tr>\n",
       "      <th>60408</th>\n",
       "      <td>1.0</td>\n",
       "      <td>1</td>\n",
       "      <td>0.155</td>\n",
       "      <td>0.150</td>\n",
       "      <td>0.2640</td>\n",
       "    </tr>\n",
       "    <tr>\n",
       "      <th>60409</th>\n",
       "      <td>1.0</td>\n",
       "      <td>0</td>\n",
       "      <td>0.190</td>\n",
       "      <td>0.135</td>\n",
       "      <td>0.1125</td>\n",
       "    </tr>\n",
       "    <tr>\n",
       "      <th>60410</th>\n",
       "      <td>1.0</td>\n",
       "      <td>0</td>\n",
       "      <td>0.120</td>\n",
       "      <td>0.090</td>\n",
       "      <td>0.0810</td>\n",
       "    </tr>\n",
       "  </tbody>\n",
       "</table>\n",
       "<p>60411 rows × 5 columns</p>\n",
       "</div>"
      ],
      "text/plain": [
       "       const  Sex  Height  Diff_Len_Diametr  Net Weight\n",
       "0        1.0    2   0.155             0.170      0.0065\n",
       "1        1.0    2   0.160             0.120      0.0100\n",
       "2        1.0    2   0.140             0.140      0.0620\n",
       "3        1.0    2   0.145             0.080      0.1000\n",
       "4        1.0    1   0.110             0.090      0.0285\n",
       "...      ...  ...     ...               ...         ...\n",
       "60406    1.0    1   0.085             0.085      0.0275\n",
       "60407    1.0    0   0.145             0.115      0.0840\n",
       "60408    1.0    1   0.155             0.150      0.2640\n",
       "60409    1.0    0   0.190             0.135      0.1125\n",
       "60410    1.0    0   0.120             0.090      0.0810\n",
       "\n",
       "[60411 rows x 5 columns]"
      ]
     },
     "execution_count": 48,
     "metadata": {},
     "output_type": "execute_result"
    }
   ],
   "source": [
    "X_new2"
   ]
  },
  {
   "cell_type": "code",
   "execution_count": 49,
   "id": "9b9885a6-cfba-4fd5-a2ff-50c2e3f07f79",
   "metadata": {},
   "outputs": [],
   "source": [
    "predictions = np.maximum(model2.predict(X_new), 0)\n",
    "predictions2 = np.maximum(model.predict(X_new2), 0)"
   ]
  },
  {
   "cell_type": "code",
   "execution_count": 50,
   "id": "b2af01ff-8758-4fd3-8f61-fde4473bd8d2",
   "metadata": {},
   "outputs": [],
   "source": [
    "test[\"Rings\"]=predictions"
   ]
  },
  {
   "cell_type": "code",
   "execution_count": 51,
   "id": "8b224c8d-826f-4e5f-a175-fdb4ada0f6df",
   "metadata": {},
   "outputs": [],
   "source": [
    "submission=test[['id', 'Rings']]"
   ]
  },
  {
   "cell_type": "code",
   "execution_count": 52,
   "id": "a20d980f-b6d7-4c1d-aac2-51a8ec4bc9cc",
   "metadata": {},
   "outputs": [],
   "source": [
    "submission.to_csv(\"Abalone_Submission2.csv\")"
   ]
  },
  {
   "cell_type": "code",
   "execution_count": null,
   "id": "1b9e8502-8a9f-4a9e-9e5c-5b169e94bc0f",
   "metadata": {},
   "outputs": [],
   "source": []
  }
 ],
 "metadata": {
  "kernelspec": {
   "display_name": "Python 3 (ipykernel)",
   "language": "python",
   "name": "python3"
  },
  "language_info": {
   "codemirror_mode": {
    "name": "ipython",
    "version": 3
   },
   "file_extension": ".py",
   "mimetype": "text/x-python",
   "name": "python",
   "nbconvert_exporter": "python",
   "pygments_lexer": "ipython3",
   "version": "3.12.4"
  }
 },
 "nbformat": 4,
 "nbformat_minor": 5
}
